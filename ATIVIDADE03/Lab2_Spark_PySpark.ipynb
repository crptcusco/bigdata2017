{
 "cells": [
  {
   "cell_type": "markdown",
   "metadata": {},
   "source": [
    "![CMCC](http://cmcc.ufabc.edu.br/images/logo_site.jpg)\n",
    "# **Spark + Python = PySpark**\n",
    "\n",
    "#### Esse notebook introduz os conceitos básicos do Spark através de sua interface com a linguagem Python. Como aplicação inicial faremos o clássico examplo de contador de palavras . Com esse exemplo é possível entender a lógica de programação funcional para as diversas tarefas de exploração de dados distribuídos.\n",
    "\n",
    "#### Para isso utilizaremos o livro texto [Trabalhos completos de William Shakespeare](http://www.gutenberg.org/ebooks/100) obtidos do  [Projeto Gutenberg](http://www.gutenberg.org/wiki/Main_Page).  Veremos que esse mesmo algoritmo pode ser empregado em textos de qualquer tamanho.\n",
    "\n",
    "#### ** Esse notebook contém:  **\n",
    "#### *Parte 1:* Criando uma base RDD e RDDs de tuplas\n",
    "#### *Parte 2:* Manipulando RDDs de tuplas\n",
    "#### *Parte 3:* Encontrando palavras únicas e calculando médias\n",
    "#### *Parte 4:* Aplicar contagem de palavras em um arquivo\n",
    "#### *Parte 5:* Similaridade entre Objetos\n",
    "#### Para os exercícios é aconselhável consultar a documentação da [API do PySpark](https://spark.apache.org/docs/latest/api/python/pyspark.html#pyspark.RDD)"
   ]
  },
  {
   "cell_type": "markdown",
   "metadata": {},
   "source": [
    "### ** Part 1: Criando e Manipulando RDDs **"
   ]
  },
  {
   "cell_type": "markdown",
   "metadata": {},
   "source": [
    "#### Nessa parte do notebook vamos criar uma base RDD a partir de uma lista com o comando `parallelize`."
   ]
  },
  {
   "cell_type": "markdown",
   "metadata": {},
   "source": [
    "#### ** (1a) Criando uma base RDD **\n",
    "#### Podemos criar uma base RDD de diversos tipos e fonte do Python com o comando `sc.parallelize(fonte, particoes)`, sendo fonte uma variável contendo os dados (ex.: uma lista) e particoes o número de partições para trabalhar em paralelo."
   ]
  },
  {
   "cell_type": "code",
   "execution_count": 53,
   "metadata": {},
   "outputs": [
    {
     "name": "stdout",
     "output_type": "stream",
     "text": [
      "<class 'pyspark.rdd.RDD'>\n"
     ]
    }
   ],
   "source": [
    "from pyspark import SparkContext\n",
    "sc = SparkContext.getOrCreate()\n",
    "\n",
    "ListaPalavras = ['gato', 'elefante', 'rato', 'rato', 'gato']\n",
    "palavrasRDD = sc.parallelize(ListaPalavras, 4)\n",
    "print type(palavrasRDD)"
   ]
  },
  {
   "cell_type": "markdown",
   "metadata": {},
   "source": [
    "#### ** (1b) Plural **\n",
    "\n",
    "#### Vamos criar uma função que transforma uma palavra no plural adicionando uma letra 's' ao final da string. Em seguida vamos utilizar a função `map()` para aplicar a transformação em cada palavra do RDD.\n",
    "\n",
    "#### Em Python (e muitas outras linguagens) a concatenação de strings é custosa. Uma alternativa melhor é criar uma nova string utilizando [`str.format()`](https://docs.python.org/2/library/string.html#format-string-syntax).\n",
    "\n",
    "#### Nota: a string entre os conjuntos de três aspas representa a documentação da função. Essa documentação é exibida com o comando `help()`. Vamos utilizar a padronização de documentação sugerida para o Python, manteremos essa documentação em inglês."
   ]
  },
  {
   "cell_type": "code",
   "execution_count": 54,
   "metadata": {},
   "outputs": [
    {
     "name": "stdout",
     "output_type": "stream",
     "text": [
      "gatos\n"
     ]
    }
   ],
   "source": [
    "# EXERCICIO\n",
    "def Plural(palavra):\n",
    "    \"\"\"Adds an 's' to `palavra`.\n",
    "\n",
    "    Args:\n",
    "        palavra (str): A string.\n",
    "\n",
    "    Returns:\n",
    "        str: A string with 's' added to it.\n",
    "    \"\"\"\n",
    "    return str.format(\"{0}s\",palavra)\n",
    "\n",
    "print Plural('gato')"
   ]
  },
  {
   "cell_type": "code",
   "execution_count": 55,
   "metadata": {},
   "outputs": [
    {
     "name": "stdout",
     "output_type": "stream",
     "text": [
      "Help on function Plural in module __main__:\n",
      "\n",
      "Plural(palavra)\n",
      "    Adds an 's' to `palavra`.\n",
      "    \n",
      "    Args:\n",
      "        palavra (str): A string.\n",
      "    \n",
      "    Returns:\n",
      "        str: A string with 's' added to it.\n",
      "\n"
     ]
    }
   ],
   "source": [
    "help(Plural)"
   ]
  },
  {
   "cell_type": "code",
   "execution_count": 56,
   "metadata": {},
   "outputs": [
    {
     "name": "stdout",
     "output_type": "stream",
     "text": [
      "OK\n"
     ]
    }
   ],
   "source": [
    "assert Plural('rato')=='ratos', 'resultado incorreto!'\n",
    "print 'OK'"
   ]
  },
  {
   "cell_type": "markdown",
   "metadata": {},
   "source": [
    "#### ** (1c) Aplicando a função ao RDD **\n",
    "#### Transforme cada palavra do nosso RDD em plural usando [map()](http://spark.apache.org/docs/latest/api/python/pyspark.html#pyspark.RDD.map) \n",
    "\n",
    "#### Em seguida, utilizaremos o comando  [collect()](http://spark.apache.org/docs/latest/api/python/pyspark.html#pyspark.RDD.collect) que retorna a RDD como uma lista do Python."
   ]
  },
  {
   "cell_type": "code",
   "execution_count": 57,
   "metadata": {},
   "outputs": [
    {
     "name": "stdout",
     "output_type": "stream",
     "text": [
      "['gatos', 'elefantes', 'ratos', 'ratos', 'gatos']\n"
     ]
    }
   ],
   "source": [
    "# EXERCICIO\n",
    "pluralRDD = palavrasRDD.map(Plural)\n",
    "print pluralRDD.collect()"
   ]
  },
  {
   "cell_type": "code",
   "execution_count": 58,
   "metadata": {},
   "outputs": [
    {
     "name": "stdout",
     "output_type": "stream",
     "text": [
      "OK\n"
     ]
    }
   ],
   "source": [
    "assert pluralRDD.collect()==['gatos','elefantes','ratos','ratos','gatos'], 'valores incorretos!'\n",
    "print 'OK'"
   ]
  },
  {
   "cell_type": "markdown",
   "metadata": {},
   "source": [
    "#### ** Nota: ** utilize o comando `collect()` apenas quando tiver certeza de que a lista caberá na memória. Para gravar os resultados de volta em arquivo texto ou base de dados utilizaremos outro comando."
   ]
  },
  {
   "cell_type": "markdown",
   "metadata": {},
   "source": [
    "#### ** (1d) Utilizando uma função `lambda` **\n",
    "#### Repita a criação de um RDD de plurais, porém utilizando uma função lambda."
   ]
  },
  {
   "cell_type": "code",
   "execution_count": 59,
   "metadata": {},
   "outputs": [
    {
     "name": "stdout",
     "output_type": "stream",
     "text": [
      "['gatos', 'elefantes', 'ratos', 'ratos', 'gatos']\n"
     ]
    }
   ],
   "source": [
    "# EXERCICIO\n",
    "pluralLambdaRDD = palavrasRDD.map(lambda x : str.format(\"{0}s\",x))\n",
    "print pluralLambdaRDD.collect()"
   ]
  },
  {
   "cell_type": "code",
   "execution_count": 60,
   "metadata": {},
   "outputs": [
    {
     "name": "stdout",
     "output_type": "stream",
     "text": [
      "OK\n"
     ]
    }
   ],
   "source": [
    "assert pluralLambdaRDD.collect()==['gatos','elefantes','ratos','ratos','gatos'], 'valores incorretos!'\n",
    "print 'OK'"
   ]
  },
  {
   "cell_type": "markdown",
   "metadata": {},
   "source": [
    "#### ** (1e) Tamanho de cada palavra **\n",
    "#### Agora use `map()` e uma função `lambda` para retornar o número de caracteres em cada palavra. Utilize `collect()` para armazenar o resultado em forma de listas na variável destino."
   ]
  },
  {
   "cell_type": "code",
   "execution_count": 61,
   "metadata": {},
   "outputs": [
    {
     "name": "stdout",
     "output_type": "stream",
     "text": [
      "[5, 9, 5, 5, 5]\n"
     ]
    }
   ],
   "source": [
    "# EXERCICIO\n",
    "pluralTamanho = (pluralRDD\n",
    "                 .map(lambda x: len(x) )\n",
    "                 .collect()\n",
    "                 )\n",
    "print pluralTamanho"
   ]
  },
  {
   "cell_type": "code",
   "execution_count": 62,
   "metadata": {},
   "outputs": [
    {
     "name": "stdout",
     "output_type": "stream",
     "text": [
      "OK\n"
     ]
    }
   ],
   "source": [
    "assert pluralTamanho==[5,9,5,5,5], 'valores incorretos'\n",
    "print \"OK\""
   ]
  },
  {
   "cell_type": "markdown",
   "metadata": {},
   "source": [
    "#### ** (1f) RDDs de pares e tuplas **\n",
    "\n",
    "#### Para contar a frequência de cada palavra de maneira distribuída, primeiro devemos atribuir um valor para cada palavra do RDD. Isso irá gerar um base de dados (chave, valor). Desse modo podemos agrupar a base através da chave, calculando a soma dos valores atribuídos. No nosso caso, vamos atribuir o valor `1` para cada palavra.\n",
    "\n",
    "#### Um RDD contendo a estrutura de tupla chave-valor `(k,v) ` é chamada de RDD de tuplas ou *pair RDD*.\n",
    "\n",
    "#### Vamos criar nosso RDD de pares usando a transformação  `map()` com uma função `lambda()`."
   ]
  },
  {
   "cell_type": "code",
   "execution_count": 63,
   "metadata": {},
   "outputs": [
    {
     "name": "stdout",
     "output_type": "stream",
     "text": [
      "[('gato', 1), ('elefante', 1), ('rato', 1), ('rato', 1), ('gato', 1)]\n"
     ]
    }
   ],
   "source": [
    "# EXERCICIO\n",
    "palavraPar = palavrasRDD.map(lambda x: (x,1))\n",
    "print palavraPar.collect()"
   ]
  },
  {
   "cell_type": "code",
   "execution_count": 64,
   "metadata": {},
   "outputs": [
    {
     "name": "stdout",
     "output_type": "stream",
     "text": [
      "OK\n"
     ]
    }
   ],
   "source": [
    "assert palavraPar.collect() == [('gato',1),('elefante',1),('rato',1),('rato',1),('gato',1)], 'valores incorretos!'\n",
    "print \"OK\""
   ]
  },
  {
   "cell_type": "markdown",
   "metadata": {},
   "source": [
    "### ** Parte 2: Manipulando RDD de tuplas **"
   ]
  },
  {
   "cell_type": "markdown",
   "metadata": {},
   "source": [
    "#### Vamos manipular nossa RDD para contar as palavras do texto."
   ]
  },
  {
   "cell_type": "markdown",
   "metadata": {},
   "source": [
    "#### ** (2a) Função `groupByKey()`  **\n",
    "\n",
    "#### A função [groupByKey()](http://spark.apache.org/docs/latest/api/python/pyspark.html#pyspark.RDD.groupByKey) agrupa todos os valores de um RDD através da chave (primeiro elemento da tupla) agregando os valores em uma lista.\n",
    "\n",
    "#### Essa abordagem tem um ponto fraco pois:\n",
    "  + #### A operação requer que os dados distribuídos sejam movidos em massa para que permaneçam na partição correta.\n",
    "  + #### As listas podem se tornar muito grandes. Imagine contar todas as palavras do Wikipedia: termos comuns como \"a\", \"e\" formarão uma lista enorme de valores que pode não caber na memória do processo escravo.\n",
    " "
   ]
  },
  {
   "cell_type": "code",
   "execution_count": 65,
   "metadata": {},
   "outputs": [
    {
     "name": "stdout",
     "output_type": "stream",
     "text": [
      "rato: [1, 1]\n",
      "elefante: [1]\n",
      "gato: [1, 1]\n"
     ]
    }
   ],
   "source": [
    "# EXERCICIO\n",
    "palavrasGrupo = palavraPar.groupByKey()\n",
    "for chave, valor in palavrasGrupo.collect():\n",
    "    print '{0}: {1}'.format(chave, list(valor))"
   ]
  },
  {
   "cell_type": "code",
   "execution_count": 66,
   "metadata": {},
   "outputs": [
    {
     "name": "stdout",
     "output_type": "stream",
     "text": [
      "OK\n"
     ]
    }
   ],
   "source": [
    "assert sorted(palavrasGrupo.mapValues(lambda x: list(x)).collect()) == [('elefante', [1]), ('gato',[1, 1]), ('rato',[1, 1])],'Valores incorretos!'\n",
    "print \"OK\""
   ]
  },
  {
   "cell_type": "markdown",
   "metadata": {},
   "source": [
    "#### ** (2b) Calculando as contagens **\n",
    "#### Após o  `groupByKey()` nossa RDD contém elementos compostos da palavra, como chave, e um iterador contendo todos os valores correspondentes aquela chave.\n",
    "#### Utilizando a transformação `mapValues()` e a função `sum()`, contrua um novo RDD que consiste de tuplas (chave, soma)."
   ]
  },
  {
   "cell_type": "code",
   "execution_count": 67,
   "metadata": {},
   "outputs": [
    {
     "name": "stdout",
     "output_type": "stream",
     "text": [
      "[('rato', 2), ('elefante', 1), ('gato', 2)]\n"
     ]
    }
   ],
   "source": [
    "# EXERCICIO\n",
    "contagemGroup = palavrasGrupo.mapValues(sum)\n",
    "print contagemGroup.collect()"
   ]
  },
  {
   "cell_type": "code",
   "execution_count": 68,
   "metadata": {},
   "outputs": [
    {
     "name": "stdout",
     "output_type": "stream",
     "text": [
      "OK\n"
     ]
    }
   ],
   "source": [
    "assert list(sorted(contagemGroup.collect()))==[('elefante',1), ('gato',2), ('rato',2)], 'valores incorretos!'\n",
    "print \"OK\""
   ]
  },
  {
   "cell_type": "markdown",
   "metadata": {},
   "source": [
    "#### ** (2c) `reduceByKey` **\n",
    "#### Um comando mais interessante para a contagem é o  [reduceByKey()](http://spark.apache.org/docs/latest/api/python/pyspark.html#pyspark.RDD.reduceByKey) que cria uma nova RDD de tuplas.\n",
    "\n",
    "#### Essa transformação aplica a transformação `reduce()` vista na aula anterior para os valores de cada chave. Dessa forma, a função de transformação pode ser aplicada em cada partição local para depois ser enviada para redistribuição de partições, reduzindo o total de dados sendo movidos e não mantendo listas grandes na memória."
   ]
  },
  {
   "cell_type": "code",
   "execution_count": 69,
   "metadata": {},
   "outputs": [
    {
     "name": "stdout",
     "output_type": "stream",
     "text": [
      "[('rato', 2), ('elefante', 1), ('gato', 2)]\n"
     ]
    }
   ],
   "source": [
    "# EXERCICIO\n",
    "#from operator import add\n",
    "contagem = palavraPar.reduceByKey(lambda x,y: x+y)\n",
    "print contagem.collect()"
   ]
  },
  {
   "cell_type": "code",
   "execution_count": 70,
   "metadata": {},
   "outputs": [
    {
     "name": "stdout",
     "output_type": "stream",
     "text": [
      "OK\n"
     ]
    }
   ],
   "source": [
    "assert sorted(contagem.collect())==[('elefante',1), ('gato',2), ('rato',2)], 'valores incorretos!'\n",
    "print \"OK\""
   ]
  },
  {
   "cell_type": "markdown",
   "metadata": {},
   "source": [
    "#### ** (2d) Agrupando os comandos **\n",
    "\n",
    "#### A forma mais usual de realizar essa tarefa, partindo do nosso RDD palavrasRDD, é encadear os comandos map e reduceByKey em uma linha de comando."
   ]
  },
  {
   "cell_type": "code",
   "execution_count": 71,
   "metadata": {},
   "outputs": [
    {
     "name": "stdout",
     "output_type": "stream",
     "text": [
      "[('rato', 2), ('elefante', 1), ('gato', 2)]\n"
     ]
    }
   ],
   "source": [
    "# EXERCICIO\n",
    "contagemFinal = (palavrasRDD\n",
    "                 .map(lambda x: (x,1))\n",
    "                 .reduceByKey(lambda x,y: x+y)\n",
    "                 )\n",
    "print contagemFinal.collect()"
   ]
  },
  {
   "cell_type": "code",
   "execution_count": 72,
   "metadata": {},
   "outputs": [
    {
     "name": "stdout",
     "output_type": "stream",
     "text": [
      "OK\n"
     ]
    }
   ],
   "source": [
    "assert sorted(contagemFinal.collect())==[('elefante',1), ('gato',2), ('rato',2)], 'valores incorretos!'\n",
    "print \"OK\""
   ]
  },
  {
   "cell_type": "markdown",
   "metadata": {},
   "source": [
    "### ** Parte 3: Encontrando as palavras únicas e calculando a média de contagem **"
   ]
  },
  {
   "cell_type": "markdown",
   "metadata": {},
   "source": [
    "#### ** (3a) Palavras Únicas **\n",
    "\n",
    "#### Calcule a quantidade de palavras únicas do RDD. Utilize comandos de RDD da API do PySpark e alguma das últimas RDDs geradas nos exercícios anteriores."
   ]
  },
  {
   "cell_type": "code",
   "execution_count": 73,
   "metadata": {},
   "outputs": [
    {
     "name": "stdout",
     "output_type": "stream",
     "text": [
      "3\n"
     ]
    }
   ],
   "source": [
    "# EXERCICIO\n",
    "palavrasUnicas = palavrasRDD.distinct().count()\n",
    "print palavrasUnicas"
   ]
  },
  {
   "cell_type": "code",
   "execution_count": 74,
   "metadata": {},
   "outputs": [
    {
     "name": "stdout",
     "output_type": "stream",
     "text": [
      "OK\n"
     ]
    }
   ],
   "source": [
    "assert palavrasUnicas==3, 'valor incorreto!'\n",
    "print \"OK\""
   ]
  },
  {
   "cell_type": "markdown",
   "metadata": {},
   "source": [
    "#### ** (3b) Calculando a Média de contagem de palavras **\n",
    "\n",
    "#### Encontre a média de frequência das palavras utilizando o RDD `contagem`.\n",
    "\n",
    "#### Note que a função do comando `reduce()` é aplicada em cada tupla do RDD. Para realizar a soma das contagens, primeiro é necessário mapear o RDD para um RDD contendo apenas os valores das frequências (sem as chaves)."
   ]
  },
  {
   "cell_type": "code",
   "execution_count": 75,
   "metadata": {},
   "outputs": [
    {
     "name": "stdout",
     "output_type": "stream",
     "text": [
      "5\n",
      "1.67\n"
     ]
    }
   ],
   "source": [
    "# EXERCICIO\n",
    "# add é equivalente a lambda x,y: x+y\n",
    "from operator import add\n",
    "total = (contagemFinal\n",
    "         .map(lambda (x,y) : y)\n",
    "         .reduce(lambda x,y : x+y)\n",
    "         )\n",
    "#print total\n",
    "media = total / float(palavrasUnicas)\n",
    "print total\n",
    "print round(media, 2)"
   ]
  },
  {
   "cell_type": "code",
   "execution_count": 76,
   "metadata": {},
   "outputs": [
    {
     "name": "stdout",
     "output_type": "stream",
     "text": [
      "OK\n"
     ]
    }
   ],
   "source": [
    "assert round(media, 2)==1.67, 'valores incorretos!'\n",
    "print \"OK\""
   ]
  },
  {
   "cell_type": "markdown",
   "metadata": {},
   "source": [
    "### ** Parte 4: Aplicar nosso algoritmo em um arquivo **"
   ]
  },
  {
   "cell_type": "markdown",
   "metadata": {},
   "source": [
    "#### ** (4a) Função `contaPalavras` **\n",
    "\n",
    "#### Para podermos aplicar nosso algoritmo genéricamente em diversos RDDs, vamos primeiro criar uma função para aplicá-lo em qualquer fonte de dados. Essa função recebe de entrada um RDD contendo uma lista de chaves (palavras) e retorna um RDD de tuplas com as chaves e a contagem delas nessa RDD"
   ]
  },
  {
   "cell_type": "code",
   "execution_count": 77,
   "metadata": {},
   "outputs": [
    {
     "name": "stdout",
     "output_type": "stream",
     "text": [
      "[('rato', 2), ('elefante', 1), ('gato', 2)]\n"
     ]
    }
   ],
   "source": [
    "# EXERCICIO\n",
    "def contaPalavras(chavesRDD):\n",
    "    \"\"\"Creates a pair RDD with word counts from an RDD of words.\n",
    "\n",
    "    Args:\n",
    "        chavesRDD (RDD of str): An RDD consisting of words.\n",
    "\n",
    "    Returns:\n",
    "        RDD of (str, int): An RDD consisting of (word, count) tuples.\n",
    "    \"\"\"\n",
    "    return (chavesRDD\n",
    "            .map(lambda x : (x,1))\n",
    "            .reduceByKey(lambda x,y: x+y)\n",
    "            #.reduce(lambda x,y : x+y)\n",
    "           )\n",
    "\n",
    "print contaPalavras(palavrasRDD).collect()"
   ]
  },
  {
   "cell_type": "code",
   "execution_count": 78,
   "metadata": {},
   "outputs": [
    {
     "name": "stdout",
     "output_type": "stream",
     "text": [
      "OK\n"
     ]
    }
   ],
   "source": [
    "assert sorted(contaPalavras(palavrasRDD).collect())==[('elefante',1), ('gato',2), ('rato',2)], 'valores incorretos!'\n",
    "print \"OK\""
   ]
  },
  {
   "cell_type": "markdown",
   "metadata": {},
   "source": [
    "#### ** (4b) Normalizando o texto **\n",
    "\n",
    "#### Quando trabalhamos com dados reais, geralmente precisamos padronizar os atributos de tal forma que diferenças sutis por conta de erro de medição ou diferença de normatização, sejam desconsideradas. Para o próximo passo vamos padronizar o texto para:\n",
    "  + #### Padronizar a capitalização das palavras (tudo maiúsculo ou tudo minúsculo).\n",
    "  + #### Remover pontuação.\n",
    "  + #### Remover espaços no início e no final da palavra.\n",
    " \n",
    "#### Crie uma função `removerPontuacao` que converte todo o texto para minúscula, remove qualquer pontuação e espaços em branco no início ou final da palavra. Para isso, utilize a biblioteca [re](https://docs.python.org/2/library/re.html) para remover todo texto que não seja letra, número ou espaço, encadeando com as funções de string para remover espaços em branco e converter para minúscula (veja [Strings](https://docs.python.org/2/library/stdtypes.html?highlight=str.lower#string-methods))."
   ]
  },
  {
   "cell_type": "code",
   "execution_count": 79,
   "metadata": {},
   "outputs": [
    {
     "name": "stdout",
     "output_type": "stream",
     "text": [
      "ola quem esta ai\n",
      "sem espaco esublinhado\n"
     ]
    }
   ],
   "source": [
    "# EXERCICIO\n",
    "import re\n",
    "def removerPontuacao(texto):\n",
    "    \"\"\"Removes punctuation, changes to lower case, and strips leading and trailing spaces.\n",
    "\n",
    "    Note:\n",
    "        Only spaces, letters, and numbers should be retained.  Other characters should should be\n",
    "        eliminated (e.g. it's becomes its).  Leading and trailing spaces should be removed after\n",
    "        punctuation is removed.\n",
    "\n",
    "    Args:\n",
    "        texto (str): A string.\n",
    "\n",
    "    Returns:\n",
    "        str: The cleaned up string.\n",
    "    \"\"\"\n",
    "    return re.sub(r'[^A-Za-z0-9 ]', '', texto).strip().lower()\n",
    "print removerPontuacao('Ola, quem esta ai??!')\n",
    "print removerPontuacao(' Sem espaco e_sublinhado!')"
   ]
  },
  {
   "cell_type": "code",
   "execution_count": 80,
   "metadata": {},
   "outputs": [
    {
     "name": "stdout",
     "output_type": "stream",
     "text": [
      "OK\n"
     ]
    }
   ],
   "source": [
    "assert removerPontuacao(' O uso de virgulas, embora permitido, nao deve contar. ')=='o uso de virgulas embora permitido nao deve contar', 'string incorreta!'\n",
    "print \"OK\""
   ]
  },
  {
   "cell_type": "markdown",
   "metadata": {},
   "source": [
    "#### ** (4c) Carregando arquivo texto  **\n",
    "\n",
    "#### Para a próxima parte vamos utilizar o livro [Trabalhos completos de William Shakespeare](http://www.gutenberg.org/ebooks/100) do [Projeto Gutenberg](http://www.gutenberg.org/wiki/Main_Page). \n",
    "\n",
    "#### Para converter um texto em uma RDD, utilizamos a função `textFile()` que recebe como entrada o nome do arquivo texto que queremos utilizar e o número de partições.\n",
    "\n",
    "#### O nome do arquivo texto pode se referir a um arquivo local ou uma URI de arquivo distribuído (ex.: hdfs://).\n",
    "\n",
    "#### Vamos também aplicar a função `removerPontuacao()` para normalizar o texto e verificar as 15 primeiras linhas com o comando `take()`."
   ]
  },
  {
   "cell_type": "code",
   "execution_count": 81,
   "metadata": {},
   "outputs": [
    {
     "name": "stdout",
     "output_type": "stream",
     "text": [
      "Arquivo já existe!\n",
      "0: the project gutenberg ebook of the complete works of william shakespeare by\n",
      "1: william shakespeare\n",
      "2: \n",
      "3: this ebook is for the use of anyone anywhere at no cost and with\n",
      "4: almost no restrictions whatsoever  you may copy it give it away or\n",
      "5: reuse it under the terms of the project gutenberg license included\n",
      "6: with this ebook or online at wwwgutenbergorg\n",
      "7: \n",
      "8: this is a copyrighted project gutenberg ebook details below\n",
      "9: please follow the copyright guidelines in this file\n",
      "10: \n",
      "11: title the complete works of william shakespeare\n",
      "12: \n",
      "13: author william shakespeare\n",
      "14: \n"
     ]
    }
   ],
   "source": [
    "# Apenas execute a célula\n",
    "import os.path\n",
    "import urllib2\n",
    "\n",
    "url = 'http://www.gutenberg.org/cache/epub/100/pg100.txt' # url do livro\n",
    "\n",
    "#arquivo = os.path.join('Data','Aula02','shakespeare.txt') # local de destino: 'Data/Aula02/shakespeare.txt'\n",
    "arquivo = 'shakespeare.txt'\n",
    "\n",
    "if os.path.isfile(arquivo):     # verifica se já fizemos download do arquivo\n",
    "    print 'Arquivo já existe!'\n",
    "else:\n",
    "    try:        \n",
    "        response = urllib2.urlopen(url)\n",
    "        arquivo = (response.read()).split() #ja gera uma lista de palavras\n",
    "    except IOError:\n",
    "        print 'Impossível fazer o download: {0}'.format(url)\n",
    "\n",
    "# lê o arquivo com textFile e aplica a função removerPontuacao        \n",
    "shakesRDD = (sc\n",
    "             .textFile(arquivo, 8)\n",
    "             .map(removerPontuacao)\n",
    "             )\n",
    "\n",
    "# zipWithIndex gera tuplas (conteudo, indice) onde indice é a posição do conteudo na lista sequencial\n",
    "# Ex.: sc.parallelize(['gato','cachorro','boi']).zipWithIndex() ==> [('gato',0), ('cachorro',1), ('boi',2)]\n",
    "# sep.join() junta as strings de uma lista através do separador sep. Ex.: ','.join(['a','b','c']) ==> 'a,b,c'\n",
    "print '\\n'.join(shakesRDD\n",
    "                .zipWithIndex()\n",
    "                .map(lambda (linha, num): '{0}: {1}'.format(num,linha))\n",
    "                .take(15)\n",
    "               )"
   ]
  },
  {
   "cell_type": "markdown",
   "metadata": {},
   "source": [
    "#### ** (4d) Extraindo as palavras **\n",
    "#### Antes de poder usar nossa função Before we can use the `contaPalavras()`, temos ainda que trabalhar em cima da nossa RDD:\n",
    "  + #### Precisamos gerar listas de palavras ao invés de listas de sentenças.\n",
    "  + #### Eliminar linhas vazias.\n",
    " \n",
    "#### As strings em Python tem o método [split()](https://docs.python.org/2/library/string.html#string.split) que faz a separação de uma string por separador. No nosso caso, queremos separar as strings por espaço. \n",
    "\n",
    "#### Utilize a função `map()` para gerar um novo RDD como uma lista de palavras."
   ]
  },
  {
   "cell_type": "code",
   "execution_count": 82,
   "metadata": {},
   "outputs": [
    {
     "name": "stdout",
     "output_type": "stream",
     "text": [
      "[[u'the', u'project', u'gutenberg', u'ebook', u'of', u'the', u'complete', u'works', u'of', u'william', u'shakespeare', u'by'], [u'william', u'shakespeare'], [u'this', u'ebook', u'is', u'for', u'the', u'use', u'of', u'anyone', u'anywhere', u'at', u'no', u'cost', u'and', u'with'], [u'almost', u'no', u'restrictions', u'whatsoever', u'you', u'may', u'copy', u'it', u'give', u'it', u'away', u'or'], [u'reuse', u'it', u'under', u'the', u'terms', u'of', u'the', u'project', u'gutenberg', u'license', u'included']]\n",
      "115105\n"
     ]
    }
   ],
   "source": [
    "# EXERCICIO\n",
    "shakesPalavrasRDD = (shakesRDD\n",
    "                     .map(lambda x: x.split())\n",
    "                     .filter(lambda x: x!=[])\n",
    "                    )\n",
    "                    \n",
    "total = shakesPalavrasRDD.count()\n",
    "print shakesPalavrasRDD.take(5)\n",
    "print total"
   ]
  },
  {
   "cell_type": "markdown",
   "metadata": {},
   "source": [
    "#### Conforme deve ter percebido, o uso da função `map()` gera uma lista para cada linha, criando um RDD contendo uma lista de listas.\n",
    "\n",
    "#### Para resolver esse problema, o Spark possui uma função análoga chamada `flatMap()` que aplica a transformação do `map()`, porém *achatando* o retorno em forma de lista para uma lista unidimensional."
   ]
  },
  {
   "cell_type": "code",
   "execution_count": 83,
   "metadata": {},
   "outputs": [
    {
     "name": "stdout",
     "output_type": "stream",
     "text": [
      "[u'zwaggerd', u'zounds', u'zounds', u'zounds', u'zounds']\n",
      "903705\n"
     ]
    }
   ],
   "source": [
    "# EXERCICIO\n",
    "shakesPalavrasRDD = shakesRDD.flatMap(lambda x: x.split())\n",
    "total = shakesPalavrasRDD.count()\n",
    "print shakesPalavrasRDD.top(5)\n",
    "print total"
   ]
  },
  {
   "cell_type": "markdown",
   "metadata": {},
   "source": [
    "**Nota:** os asserts abaixo de contagem de palavra podem falhar por diferença de formato do arquivo .txt antigo e novo. Eu avaliarei somente os códigos nesse trecho."
   ]
  },
  {
   "cell_type": "code",
   "execution_count": 84,
   "metadata": {},
   "outputs": [
    {
     "ename": "AssertionError",
     "evalue": "valor incorreto de palavras!",
     "output_type": "error",
     "traceback": [
      "\u001b[0;31m---------------------------------------------------------------------------\u001b[0m",
      "\u001b[0;31mAssertionError\u001b[0m                            Traceback (most recent call last)",
      "\u001b[0;32m<ipython-input-84-d9d1e21c2c5d>\u001b[0m in \u001b[0;36m<module>\u001b[0;34m()\u001b[0m\n\u001b[0;32m----> 1\u001b[0;31m \u001b[0;32massert\u001b[0m \u001b[0mtotal\u001b[0m\u001b[0;34m==\u001b[0m\u001b[0;36m927631\u001b[0m \u001b[0;32mor\u001b[0m \u001b[0mtotal\u001b[0m \u001b[0;34m==\u001b[0m \u001b[0;36m928908\u001b[0m\u001b[0;34m,\u001b[0m \u001b[0;34m\"valor incorreto de palavras!\"\u001b[0m\u001b[0;34m\u001b[0m\u001b[0m\n\u001b[0m\u001b[1;32m      2\u001b[0m \u001b[0;32mprint\u001b[0m \u001b[0;34m\"OK\"\u001b[0m\u001b[0;34m\u001b[0m\u001b[0m\n\u001b[1;32m      3\u001b[0m \u001b[0;32massert\u001b[0m \u001b[0mshakesPalavrasRDD\u001b[0m\u001b[0;34m.\u001b[0m\u001b[0mtop\u001b[0m\u001b[0;34m(\u001b[0m\u001b[0;36m5\u001b[0m\u001b[0;34m)\u001b[0m\u001b[0;34m==\u001b[0m\u001b[0;34m[\u001b[0m\u001b[0;34mu'zwaggerd'\u001b[0m\u001b[0;34m,\u001b[0m \u001b[0;34mu'zounds'\u001b[0m\u001b[0;34m,\u001b[0m \u001b[0;34mu'zounds'\u001b[0m\u001b[0;34m,\u001b[0m \u001b[0;34mu'zounds'\u001b[0m\u001b[0;34m,\u001b[0m \u001b[0;34mu'zounds'\u001b[0m\u001b[0;34m]\u001b[0m\u001b[0;34m,\u001b[0m\u001b[0;34m'lista incorreta de palavras'\u001b[0m\u001b[0;34m\u001b[0m\u001b[0m\n\u001b[1;32m      4\u001b[0m \u001b[0;32mprint\u001b[0m \u001b[0;34m\"OK\"\u001b[0m\u001b[0;34m\u001b[0m\u001b[0m\n",
      "\u001b[0;31mAssertionError\u001b[0m: valor incorreto de palavras!"
     ]
    }
   ],
   "source": [
    "assert total==927631 or total == 928908, \"valor incorreto de palavras!\"\n",
    "print \"OK\"\n",
    "assert shakesPalavrasRDD.top(5)==[u'zwaggerd', u'zounds', u'zounds', u'zounds', u'zounds'],'lista incorreta de palavras'\n",
    "print \"OK\""
   ]
  },
  {
   "cell_type": "markdown",
   "metadata": {},
   "source": [
    "#### ** (4e) Remover linhas vazias **\n",
    "\n",
    "#### Para o próximo passo vamos filtrar as linhas vazias com o comando `filter()`. Uma linha vazia é uma string sem nenhum conteúdo."
   ]
  },
  {
   "cell_type": "code",
   "execution_count": 85,
   "metadata": {},
   "outputs": [
    {
     "name": "stdout",
     "output_type": "stream",
     "text": [
      "903705\n"
     ]
    }
   ],
   "source": [
    "# EXERCICIO\n",
    "shakesLimpoRDD = shakesPalavrasRDD.filter(lambda x: x!=[])\n",
    "total = shakesLimpoRDD.count()\n",
    "print total"
   ]
  },
  {
   "cell_type": "code",
   "execution_count": 86,
   "metadata": {},
   "outputs": [
    {
     "ename": "AssertionError",
     "evalue": "valor incorreto!",
     "output_type": "error",
     "traceback": [
      "\u001b[0;31m---------------------------------------------------------------------------\u001b[0m",
      "\u001b[0;31mAssertionError\u001b[0m                            Traceback (most recent call last)",
      "\u001b[0;32m<ipython-input-86-bf9afed31cba>\u001b[0m in \u001b[0;36m<module>\u001b[0;34m()\u001b[0m\n\u001b[0;32m----> 1\u001b[0;31m \u001b[0;32massert\u001b[0m \u001b[0mtotal\u001b[0m\u001b[0;34m==\u001b[0m\u001b[0;36m882996\u001b[0m\u001b[0;34m,\u001b[0m \u001b[0;34m'valor incorreto!'\u001b[0m\u001b[0;34m\u001b[0m\u001b[0m\n\u001b[0m\u001b[1;32m      2\u001b[0m \u001b[0;32mprint\u001b[0m \u001b[0;34m\"OK\"\u001b[0m\u001b[0;34m\u001b[0m\u001b[0m\n",
      "\u001b[0;31mAssertionError\u001b[0m: valor incorreto!"
     ]
    }
   ],
   "source": [
    "assert total==882996, 'valor incorreto!'\n",
    "print \"OK\""
   ]
  },
  {
   "cell_type": "markdown",
   "metadata": {},
   "source": [
    "#### ** (4f) Contagem de palavras **\n",
    "#### Agora que nossa RDD contém uma lista de palavras, podemos aplicar nossa função `contaPalavras()`.\n",
    "\n",
    "#### Aplique a função em nossa RDD e utilize a função `takeOrdered` para imprimir as 15 palavras mais frequentes.\n",
    "\n",
    "#### `takeOrdered()` pode receber um segundo parâmetro que instrui o Spark em como ordenar os elementos. Ex.:\n",
    "\n",
    "#### `takeOrdered(15, key=lambda x: -x)`: ordem decrescente dos valores de x"
   ]
  },
  {
   "cell_type": "code",
   "execution_count": 87,
   "metadata": {
    "scrolled": true
   },
   "outputs": [
    {
     "name": "stdout",
     "output_type": "stream",
     "text": [
      "the: 27825\n",
      "and: 26791\n",
      "i: 20681\n",
      "to: 19261\n",
      "of: 18289\n",
      "a: 14667\n",
      "you: 13716\n",
      "my: 12481\n",
      "that: 11135\n",
      "in: 11027\n",
      "is: 9621\n",
      "not: 8745\n",
      "for: 8261\n",
      "with: 8046\n",
      "me: 7769\n"
     ]
    }
   ],
   "source": [
    "# EXERCICIO\n",
    "top15 = (contaPalavras(shakesLimpoRDD)\n",
    "        .takeOrdered(15, key=lambda (k,v): -v)\n",
    "         )\n",
    "print '\\n'.join(map(lambda (w, c): '{0}: {1}'.format(w, c), top15))"
   ]
  },
  {
   "cell_type": "code",
   "execution_count": 88,
   "metadata": {
    "scrolled": true
   },
   "outputs": [
    {
     "ename": "AssertionError",
     "evalue": "valores incorretos!",
     "output_type": "error",
     "traceback": [
      "\u001b[0;31m---------------------------------------------------------------------------\u001b[0m",
      "\u001b[0;31mAssertionError\u001b[0m                            Traceback (most recent call last)",
      "\u001b[0;32m<ipython-input-88-ba7ce25f941d>\u001b[0m in \u001b[0;36m<module>\u001b[0;34m()\u001b[0m\n\u001b[1;32m      1\u001b[0m assert top15 == [(u'the', 27361), (u'and', 26028), (u'i', 20681), (u'to', 19150), (u'of', 17463),\n\u001b[1;32m      2\u001b[0m                    \u001b[0;34m(\u001b[0m\u001b[0;34mu'a'\u001b[0m\u001b[0;34m,\u001b[0m \u001b[0;36m14593\u001b[0m\u001b[0;34m)\u001b[0m\u001b[0;34m,\u001b[0m \u001b[0;34m(\u001b[0m\u001b[0;34mu'you'\u001b[0m\u001b[0;34m,\u001b[0m \u001b[0;36m13615\u001b[0m\u001b[0;34m)\u001b[0m\u001b[0;34m,\u001b[0m \u001b[0;34m(\u001b[0m\u001b[0;34mu'my'\u001b[0m\u001b[0;34m,\u001b[0m \u001b[0;36m12481\u001b[0m\u001b[0;34m)\u001b[0m\u001b[0;34m,\u001b[0m \u001b[0;34m(\u001b[0m\u001b[0;34mu'in'\u001b[0m\u001b[0;34m,\u001b[0m \u001b[0;36m10956\u001b[0m\u001b[0;34m)\u001b[0m\u001b[0;34m,\u001b[0m \u001b[0;34m(\u001b[0m\u001b[0;34mu'that'\u001b[0m\u001b[0;34m,\u001b[0m \u001b[0;36m10890\u001b[0m\u001b[0;34m)\u001b[0m\u001b[0;34m,\u001b[0m\u001b[0;34m\u001b[0m\u001b[0m\n\u001b[0;32m----> 3\u001b[0;31m                    (u'is', 9134), (u'not', 8497), (u'with', 7771), (u'me', 7769), (u'it', 7678)],'valores incorretos!'\n\u001b[0m\u001b[1;32m      4\u001b[0m \u001b[0;32mprint\u001b[0m \u001b[0;34m\"OK\"\u001b[0m\u001b[0;34m\u001b[0m\u001b[0m\n",
      "\u001b[0;31mAssertionError\u001b[0m: valores incorretos!"
     ]
    }
   ],
   "source": [
    "assert top15 == [(u'the', 27361), (u'and', 26028), (u'i', 20681), (u'to', 19150), (u'of', 17463),\n",
    "                   (u'a', 14593), (u'you', 13615), (u'my', 12481), (u'in', 10956), (u'that', 10890),\n",
    "                   (u'is', 9134), (u'not', 8497), (u'with', 7771), (u'me', 7769), (u'it', 7678)],'valores incorretos!'\n",
    "print \"OK\""
   ]
  },
  {
   "cell_type": "markdown",
   "metadata": {},
   "source": [
    "### ** Parte 5: Similaridade entre Objetos **"
   ]
  },
  {
   "cell_type": "markdown",
   "metadata": {},
   "source": [
    "### Nessa parte do laboratório vamos aprender a calcular a distância entre atributos numéricos, categóricos e textuais."
   ]
  },
  {
   "cell_type": "markdown",
   "metadata": {},
   "source": [
    "#### ** (5a) Vetores no espaço Euclidiano **\n",
    "\n",
    "#### Quando nossos objetos são representados no espaço Euclidiano, medimos a similaridade entre eles através da *p-Norma* definida por:\n",
    "\n",
    "#### $$d(x,y,p) = (\\sum_{i=1}^{n}{|x_i - y_i|^p})^{1/p}$$\n",
    "\n",
    "#### As normas mais utilizadas são $p=1,2,\\infty$ que se reduzem em distância absoluta, Euclidiana e máxima distância:\n",
    "\n",
    "#### $$d(x,y,1) = \\sum_{i=1}^{n}{|x_i - y_i|}$$\n",
    "\n",
    "#### $$d(x,y,2) = (\\sum_{i=1}^{n}{|x_i - y_i|^2})^{1/2}$$\n",
    "\n",
    "#### $$d(x,y,\\infty) = \\max(|x_1 - y_1|,|x_2 - y_2|, ..., |x_n - y_n|)$$"
   ]
  },
  {
   "cell_type": "code",
   "execution_count": 89,
   "metadata": {},
   "outputs": [],
   "source": [
    "import numpy as np\n",
    "\n",
    "# Vamos criar uma função pNorm que recebe como parâmetro p e retorna uma função que calcula a pNorma\n",
    "def pNorm(p):\n",
    "    \"\"\"Generates a function to calculate the p-Norm between two points.\n",
    "\n",
    "    Args:\n",
    "        p (int): The integer p.\n",
    "\n",
    "    Returns:\n",
    "        Dist: A function that calculates the p-Norm.\n",
    "    \"\"\"\n",
    "\n",
    "    def Dist(x,y):\n",
    "        return np.power(np.power(np.abs(x-y),p).sum(),1/float(p))\n",
    "    return Dist"
   ]
  },
  {
   "cell_type": "code",
   "execution_count": 90,
   "metadata": {},
   "outputs": [],
   "source": [
    "# Vamos criar uma RDD com valores numéricos\n",
    "numPointsRDD = sc.parallelize(enumerate(np.random.random(size=(10,100))))"
   ]
  },
  {
   "cell_type": "code",
   "execution_count": 101,
   "metadata": {},
   "outputs": [
    {
     "name": "stdout",
     "output_type": "stream",
     "text": [
      "[[(0.12458857040662985, 0.12458857040662985), (0.19317650375509188, 0.19317650375509188), (0.70309643395665944, 0.70309643395665944), (0.1281430173974929, 0.1281430173974929), (0.04546054843729963, 0.04546054843729963), (0.53825180754090407, 0.53825180754090407), (0.79183963493196385, 0.79183963493196385), (0.20197888889465954, 0.20197888889465954), (0.58481612161080376, 0.58481612161080376), (0.59927568186461355, 0.59927568186461355), (0.35073377186314059, 0.35073377186314059), (0.33203009745337686, 0.33203009745337686), (0.16170879345087941, 0.16170879345087941), (0.60265261760660294, 0.60265261760660294), (0.77399496695323156, 0.77399496695323156), (0.95369838217412062, 0.95369838217412062), (0.49272596392977042, 0.49272596392977042), (0.42343540791543788, 0.42343540791543788), (0.49415234336946912, 0.49415234336946912), (0.1513848571352705, 0.1513848571352705), (0.33477228094703504, 0.33477228094703504), (0.066127084426114147, 0.066127084426114147), (0.14701672895840745, 0.14701672895840745), (0.43039941297275086, 0.43039941297275086), (0.98877507449055502, 0.98877507449055502), (0.77651431649897051, 0.77651431649897051), (0.94547993913358241, 0.94547993913358241), (0.57579020492522182, 0.57579020492522182), (0.93433839875139291, 0.93433839875139291), (0.59829083027158791, 0.59829083027158791), (0.51402649514551746, 0.51402649514551746), (0.4043004459318934, 0.4043004459318934), (0.10989151544412523, 0.10989151544412523), (0.72270840614609266, 0.72270840614609266), (0.46450712592604282, 0.46450712592604282), (0.29336271910699552, 0.29336271910699552), (0.80325521338416461, 0.80325521338416461), (0.23065215164257868, 0.23065215164257868), (0.12228062335967704, 0.12228062335967704), (0.55435057149809519, 0.55435057149809519), (0.76690363908707937, 0.76690363908707937), (0.70499950024551017, 0.70499950024551017), (0.1647922548124352, 0.1647922548124352), (0.56090289603149224, 0.56090289603149224), (0.90042683192059458, 0.90042683192059458), (0.20716163810881882, 0.20716163810881882), (0.45691243735421727, 0.45691243735421727), (0.30709431793047548, 0.30709431793047548), (0.71793991523567002, 0.71793991523567002), (0.3361223192575884, 0.3361223192575884), (0.15250016081232465, 0.15250016081232465), (0.47238522358838031, 0.47238522358838031), (0.69495174803207904, 0.69495174803207904), (0.66552890085244842, 0.66552890085244842), (0.11826792675693254, 0.11826792675693254), (0.93787098387327683, 0.93787098387327683), (0.74108672529106012, 0.74108672529106012), (0.93651115876677116, 0.93651115876677116), (0.21664060384567108, 0.21664060384567108), (0.61502640190933933, 0.61502640190933933), (0.98842778278007359, 0.98842778278007359), (0.44093133027533404, 0.44093133027533404), (0.58558970353611217, 0.58558970353611217), (0.44362242669315322, 0.44362242669315322), (0.76987451390384976, 0.76987451390384976), (0.25303926573897007, 0.25303926573897007), (0.94763681963407864, 0.94763681963407864), (0.44629930919290439, 0.44629930919290439), (0.60531165271246024, 0.60531165271246024), (0.29061501788598454, 0.29061501788598454), (0.0032322525326511364, 0.0032322525326511364), (0.86566193871963082, 0.86566193871963082), (0.63235488387962735, 0.63235488387962735), (0.85373900565733185, 0.85373900565733185), (0.54342578755741777, 0.54342578755741777), (0.83635629636714948, 0.83635629636714948), (0.76369287978304556, 0.76369287978304556), (0.76619033839626627, 0.76619033839626627), (0.39150033856531263, 0.39150033856531263), (0.12580595528967453, 0.12580595528967453), (0.082844008600867269, 0.082844008600867269), (0.70757027176369114, 0.70757027176369114), (0.16946998687353365, 0.16946998687353365), (0.85920302423949602, 0.85920302423949602), (0.46282512183809965, 0.46282512183809965), (0.042459525934940956, 0.042459525934940956), (0.027595574515293042, 0.027595574515293042), (0.47347320778197255, 0.47347320778197255), (0.9670237561056676, 0.9670237561056676), (0.0078908411034410708, 0.0078908411034410708), (0.01899516810337698, 0.01899516810337698), (0.15905757681171317, 0.15905757681171317), (0.15775473307972554, 0.15775473307972554), (0.59767598020308688, 0.59767598020308688), (0.36994840681751839, 0.36994840681751839), (0.942844955698249, 0.942844955698249), (0.78637282330389224, 0.78637282330389224), (0.18416313202664403, 0.18416313202664403), (0.68246653649347289, 0.68246653649347289), (0.60942130895922941, 0.60942130895922941)], [(0.15499838212592154, 0.15499838212592154), (0.65833449937643684, 0.65833449937643684), (0.73007571559287576, 0.73007571559287576), (0.92560036185225159, 0.92560036185225159), (0.11894300525981483, 0.11894300525981483), (0.064895919983465666, 0.064895919983465666), (0.47667130425794058, 0.47667130425794058), (0.51705007799432301, 0.51705007799432301), (0.12903927827075656, 0.12903927827075656), (0.083932240156782467, 0.083932240156782467), (0.2944902834599602, 0.2944902834599602), (0.83167312066402888, 0.83167312066402888), (0.077601213366117139, 0.077601213366117139), (0.012251422248595434, 0.012251422248595434), (0.29386634802051981, 0.29386634802051981), (0.998297476503891, 0.998297476503891), (0.13866533753917987, 0.13866533753917987), (0.35574413339470412, 0.35574413339470412), (0.80013450410343057, 0.80013450410343057), (0.99719311846333691, 0.99719311846333691), (0.68114815991517541, 0.68114815991517541), (0.59308202090196449, 0.59308202090196449), (0.16733639432387282, 0.16733639432387282), (0.98689819182591354, 0.98689819182591354), (0.97614190370042653, 0.97614190370042653), (0.66416865366057976, 0.66416865366057976), (0.27271760439132708, 0.27271760439132708), (0.99978341772418999, 0.99978341772418999), (0.57848036739540643, 0.57848036739540643), (0.14480220843078506, 0.14480220843078506), (0.12404290011303176, 0.12404290011303176), (0.557599082249565, 0.557599082249565), (0.07048046037461575, 0.07048046037461575), (0.41092249285504012, 0.41092249285504012), (0.04593890241903531, 0.04593890241903531), (0.69866435022778539, 0.69866435022778539), (0.96056049166793001, 0.96056049166793001), (0.72213074504904951, 0.72213074504904951), (0.89165257206386372, 0.89165257206386372), (0.34896844705610119, 0.34896844705610119), (0.055554299340701996, 0.055554299340701996), (0.36198637243748466, 0.36198637243748466), (0.95514201475969096, 0.95514201475969096), (0.31901126219787812, 0.31901126219787812), (0.077190486242676215, 0.077190486242676215), (0.94748566975746196, 0.94748566975746196), (0.32395186396652564, 0.32395186396652564), (0.9615421415356733, 0.9615421415356733), (0.22430442007827045, 0.22430442007827045), (0.79643698292644249, 0.79643698292644249), (0.6996354674736035, 0.6996354674736035), (0.92013869331052334, 0.92013869331052334), (0.40563019994618821, 0.40563019994618821), (0.82761014849539383, 0.82761014849539383), (0.16370507432535386, 0.16370507432535386), (0.73801802023463925, 0.73801802023463925), (0.7381306664808156, 0.7381306664808156), (0.088339824847510351, 0.088339824847510351), (0.82109441542469164, 0.82109441542469164), (0.3087154127836903, 0.3087154127836903), (0.0381409068542925, 0.0381409068542925), (0.50056619796840351, 0.50056619796840351), (0.87054330873273655, 0.87054330873273655), (0.18505135705827092, 0.18505135705827092), (0.14610296501235787, 0.14610296501235787), (0.58061298375273673, 0.58061298375273673), (0.027199577788834417, 0.027199577788834417), (0.21931107581592091, 0.21931107581592091), (0.98844765477867558, 0.98844765477867558), (0.31970906512331865, 0.31970906512331865), (0.34605195786048126, 0.34605195786048126), (0.74177694695618712, 0.74177694695618712), (0.33854099518702263, 0.33854099518702263), (0.78233942138352708, 0.78233942138352708), (0.185270896274773, 0.185270896274773), (0.26670642836453184, 0.26670642836453184), (0.47083835042564892, 0.47083835042564892), (0.8549564830851708, 0.8549564830851708), (0.85674382470952015, 0.85674382470952015), (0.51001588284461918, 0.51001588284461918), (0.37956402850379412, 0.37956402850379412), (0.57574523518253795, 0.57574523518253795), (0.90634055275899361, 0.90634055275899361), (0.35428538138331755, 0.35428538138331755), (0.37727518108763636, 0.37727518108763636), (0.058218344626215446, 0.058218344626215446), (0.50878036488475764, 0.50878036488475764), (0.87443846244458689, 0.87443846244458689), (0.032186429739334277, 0.032186429739334277), (0.5715118746312311, 0.5715118746312311), (0.66431723856816316, 0.66431723856816316), (0.5852134259341315, 0.5852134259341315), (0.5871595278580477, 0.5871595278580477), (0.29256822282371753, 0.29256822282371753), (0.082864319166635392, 0.082864319166635392), (0.89782196923103175, 0.89782196923103175), (0.92876720258889089, 0.92876720258889089), (0.43967367129159418, 0.43967367129159418), (0.35171368500637723, 0.35171368500637723), (0.71488918377904864, 0.71488918377904864)], [(0.14202202168232136, 0.14202202168232136), (0.083504986746820387, 0.083504986746820387), (0.38427478217936073, 0.38427478217936073), (0.96754750426474645, 0.96754750426474645), (0.24270703422515916, 0.24270703422515916), (0.075187432135881749, 0.075187432135881749), (0.25765697019717992, 0.25765697019717992), (0.41772306812102311, 0.41772306812102311), (0.96712101026772113, 0.96712101026772113), (0.5994276419912371, 0.5994276419912371), (0.75697314631954471, 0.75697314631954471), (0.98834308358312017, 0.98834308358312017), (0.39254054800247073, 0.39254054800247073), (0.74108967320951402, 0.74108967320951402), (0.58613833436479035, 0.58613833436479035), (0.057536477644047901, 0.057536477644047901), (0.83966238914837965, 0.83966238914837965), (0.68474664459988022, 0.68474664459988022), (0.70139041114741585, 0.70139041114741585), (0.55044605287999659, 0.55044605287999659), (0.15137023964011853, 0.15137023964011853), (0.65999064511216665, 0.65999064511216665), (0.57623816373179659, 0.57623816373179659), (0.77104297894921903, 0.77104297894921903), (0.65655019454847485, 0.65655019454847485), (0.88599859999467845, 0.88599859999467845), (0.66969553744597066, 0.66969553744597066), (0.032479670218276357, 0.032479670218276357), (0.30583042104752689, 0.30583042104752689), (0.85673613343122168, 0.85673613343122168), (0.1877600285482538, 0.1877600285482538), (0.32598827144017084, 0.32598827144017084), (0.72524713750661407, 0.72524713750661407), (0.41411501663840855, 0.41411501663840855), (0.8171155285275048, 0.8171155285275048), (0.44855425693242446, 0.44855425693242446), (0.60823471384363081, 0.60823471384363081), (0.99236697190370826, 0.99236697190370826), (0.075820743323086304, 0.075820743323086304), (0.92765109449272076, 0.92765109449272076), (0.52215321857697117, 0.52215321857697117), (0.15488350825738051, 0.15488350825738051), (0.45544494356772236, 0.45544494356772236), (0.87329705296216709, 0.87329705296216709), (0.015906753843532018, 0.015906753843532018), (0.50103069701638958, 0.50103069701638958), (0.0300059146187871, 0.0300059146187871), (0.37778967927734164, 0.37778967927734164), (0.14280704724380822, 0.14280704724380822), (0.37430234489607628, 0.37430234489607628), (0.51537742010699494, 0.51537742010699494), (0.10125599763895421, 0.10125599763895421), (0.55765920906295219, 0.55765920906295219), (0.14022115086424902, 0.14022115086424902), (0.1473038044668834, 0.1473038044668834), (0.9494091015235655, 0.9494091015235655), (0.49634532537563902, 0.49634532537563902), (0.39778503046611924, 0.39778503046611924), (0.52295406404852984, 0.52295406404852984), (0.8223374823849432, 0.8223374823849432), (0.3425014853224263, 0.3425014853224263), (0.44959655928585995, 0.44959655928585995), (0.24168417288478627, 0.24168417288478627), (0.45801958093378958, 0.45801958093378958), (0.75993887320071152, 0.75993887320071152), (0.081673455070910173, 0.081673455070910173), (0.61471618789421412, 0.61471618789421412), (0.50169319885587071, 0.50169319885587071), (0.71916352880934431, 0.71916352880934431), (0.21683407029409907, 0.21683407029409907), (0.0041724426318643371, 0.0041724426318643371), (0.97436888087440077, 0.97436888087440077), (0.69500574431603923, 0.69500574431603923), (0.22000887166128935, 0.22000887166128935), (0.62734836586055576, 0.62734836586055576), (0.51774913304857839, 0.51774913304857839), (0.047541397824581444, 0.047541397824581444), (0.53939791651003532, 0.53939791651003532), (0.4595678166269026, 0.4595678166269026), (0.86870369620838017, 0.86870369620838017), (0.99780520028782016, 0.99780520028782016), (0.92100312008979568, 0.92100312008979568), (0.030145770740845568, 0.030145770740845568), (0.94619355116975201, 0.94619355116975201), (0.50929197376250701, 0.50929197376250701), (0.88707430331184844, 0.88707430331184844), (0.22625558209351038, 0.22625558209351038), (0.83382578185608658, 0.83382578185608658), (0.3323696501175547, 0.3323696501175547), (0.92092170302951748, 0.92092170302951748), (0.042395175265907969, 0.042395175265907969), (0.81539421048917227, 0.81539421048917227), (0.58214663523824139, 0.58214663523824139), (0.99521925947188361, 0.99521925947188361), (0.90302454232896234, 0.90302454232896234), (0.36312571505930635, 0.36312571505930635), (0.81870025879622543, 0.81870025879622543), (0.23437511410752965, 0.23437511410752965), (0.31822322178878182, 0.31822322178878182), (0.63441703855639575, 0.63441703855639575)], [(0.6563655943929444, 0.6563655943929444), (0.47154957121193131, 0.47154957121193131), (0.29411342922932215, 0.29411342922932215), (0.71995897216443183, 0.71995897216443183), (0.014872213710524607, 0.014872213710524607), (0.63464170640290363, 0.63464170640290363), (0.66356407585320021, 0.66356407585320021), (0.15828141926382822, 0.15828141926382822), (0.35822288302542715, 0.35822288302542715), (0.84122669332894617, 0.84122669332894617), (0.63284243937488038, 0.63284243937488038), (0.013716035787133318, 0.013716035787133318), (0.4525765818206926, 0.4525765818206926), (0.61737486608402892, 0.61737486608402892), (0.34564396788129459, 0.34564396788129459), (0.018077764512769989, 0.018077764512769989), (0.80031769594697222, 0.80031769594697222), (0.82598597306637067, 0.82598597306637067), (0.49880644971966126, 0.49880644971966126), (0.15378582367850868, 0.15378582367850868), (0.17700111711471, 0.17700111711471), (0.92374928443394921, 0.92374928443394921), (0.23843264540053644, 0.23843264540053644), (0.62914656051035578, 0.62914656051035578), (0.21841964138820236, 0.21841964138820236), (0.5516388410862425, 0.5516388410862425), (0.68450328942672445, 0.68450328942672445), (0.91868413395567328, 0.91868413395567328), (0.7795794461736103, 0.7795794461736103), (0.070099965700686995, 0.070099965700686995), (0.50291106006880748, 0.50291106006880748), (0.4999860086054605, 0.4999860086054605), (0.99751965835949252, 0.99751965835949252), (0.62851088181033987, 0.62851088181033987), (0.80028870408901742, 0.80028870408901742), (0.93972738089538244, 0.93972738089538244), (0.31697796318242155, 0.31697796318242155), (0.63433400516846383, 0.63433400516846383), (0.83694419927197972, 0.83694419927197972), (0.72337021786945654, 0.72337021786945654), (0.91350997214425811, 0.91350997214425811), (0.69382349129081888, 0.69382349129081888), (0.13677845260316746, 0.13677845260316746), (0.83092607391165563, 0.83092607391165563), (0.7374508209226448, 0.7374508209226448), (0.049598550687449783, 0.049598550687449783), (0.76958788331044803, 0.76958788331044803), (0.53469512877052461, 0.53469512877052461), (0.3171450155579516, 0.3171450155579516), (0.81180471467141835, 0.81180471467141835), (0.98279991547329104, 0.98279991547329104), (0.91862602998169285, 0.91862602998169285), (0.88260241397818073, 0.88260241397818073), (0.82391177498911217, 0.82391177498911217), (0.44409477063491254, 0.44409477063491254), (0.62191707460908852, 0.62191707460908852), (0.6182889405564761, 0.6182889405564761), (0.69678167205846975, 0.69678167205846975), (0.86544072139005523, 0.86544072139005523), (0.1852012145473988, 0.1852012145473988), (0.58270240278721153, 0.58270240278721153), (0.70099975643501566, 0.70099975643501566), (0.2089192058002125, 0.2089192058002125), (0.6320986332784434, 0.6320986332784434), (0.56086601865320618, 0.56086601865320618), (0.89251147302504752, 0.89251147302504752), (0.75426748400452548, 0.75426748400452548), (0.40394141003560569, 0.40394141003560569), (0.75460750972138624, 0.75460750972138624), (0.32187524525089328, 0.32187524525089328), (0.057010057799028679, 0.057010057799028679), (0.53727903281980316, 0.53727903281980316), (0.7257643985735539, 0.7257643985735539), (0.59788428804131155, 0.59788428804131155), (0.75518474843147998, 0.75518474843147998), (0.8157919980109174, 0.8157919980109174), (0.3634458389611136, 0.3634458389611136), (0.30965716411585709, 0.30965716411585709), (0.41232009135246706, 0.41232009135246706), (0.74306529317916459, 0.74306529317916459), (0.83197734276316082, 0.83197734276316082), (0.026906412163063553, 0.026906412163063553), (0.64095085905960592, 0.64095085905960592), (0.67931947156914518, 0.67931947156914518), (0.8135394915551637, 0.8135394915551637), (0.56073368722994321, 0.56073368722994321), (0.63261761492860202, 0.63261761492860202), (0.71612777952035223, 0.71612777952035223), (0.74531712818530527, 0.74531712818530527), (0.36374603002368355, 0.36374603002368355), (0.2757456170880711, 0.2757456170880711), (0.58086191301999279, 0.58086191301999279), (0.66192700226268919, 0.66192700226268919), (0.052220242674689055, 0.052220242674689055), (0.36889048213394759, 0.36889048213394759), (0.55322696314516606, 0.55322696314516606), (0.94867379087829562, 0.94867379087829562), (0.89160362187348774, 0.89160362187348774), (0.2731450264378209, 0.2731450264378209), (0.64199247273679239, 0.64199247273679239)], [(0.76608920118760193, 0.76608920118760193), (0.39639481004324473, 0.39639481004324473), (0.93446137153454223, 0.93446137153454223), (0.047879709530722514, 0.047879709530722514), (0.34027312936652199, 0.34027312936652199), (0.52357981087872596, 0.52357981087872596), (0.14539606730012333, 0.14539606730012333), (0.3716108330343818, 0.3716108330343818), (0.70486397815479085, 0.70486397815479085), (0.61145590827684837, 0.61145590827684837), (0.64168237333673284, 0.64168237333673284), (0.10035970965578389, 0.10035970965578389), (0.83853038764360266, 0.83853038764360266), (0.61399837241843724, 0.61399837241843724), (0.46667035929641532, 0.46667035929641532), (0.12171492594951094, 0.12171492594951094), (0.48655533286073749, 0.48655533286073749), (0.86416915018270624, 0.86416915018270624), (0.36655062696775442, 0.36655062696775442), (0.4532552024920351, 0.4532552024920351), (0.68083016735219037, 0.68083016735219037), (0.32054633736297511, 0.32054633736297511), (0.21297961129223486, 0.21297961129223486), (0.58713013019359361, 0.58713013019359361), (0.142212464349601, 0.142212464349601), (0.87006671375490696, 0.87006671375490696), (0.86892797222378315, 0.86892797222378315), (0.30325436178226928, 0.30325436178226928), (0.65044015603993066, 0.65044015603993066), (0.038195162972480046, 0.038195162972480046), (0.72505660543987993, 0.72505660543987993), (0.79568000101188485, 0.79568000101188485), (0.72243196991254832, 0.72243196991254832), (0.062638423269876897, 0.062638423269876897), (0.94307961990718148, 0.94307961990718148), (0.29095695173933234, 0.29095695173933234), (0.64323949568414884, 0.64323949568414884), (0.66575305339600721, 0.66575305339600721), (0.74700846301940904, 0.74700846301940904), (0.93897029306953772, 0.93897029306953772), (0.49556866114776499, 0.49556866114776499), (0.4150366477396481, 0.4150366477396481), (0.26564062372882102, 0.26564062372882102), (0.98028948254650561, 0.98028948254650561), (0.82972932516592002, 0.82972932516592002), (0.29568552297255357, 0.29568552297255357), (0.95760164272952686, 0.95760164272952686), (0.91728855084598326, 0.91728855084598326), (0.50230378930455888, 0.50230378930455888), (0.010394077448252825, 0.010394077448252825), (0.71801391187807662, 0.71801391187807662), (0.35653232583217331, 0.35653232583217331), (0.26027923238377271, 0.26027923238377271), (0.27109304226110953, 0.27109304226110953), (0.12727652488319452, 0.12727652488319452), (0.5481229994802822, 0.5481229994802822), (0.33614099116366691, 0.33614099116366691), (0.70651808676895844, 0.70651808676895844), (0.94133030644239235, 0.94133030644239235), (0.62861750251100612, 0.62861750251100612), (0.80482986313663707, 0.80482986313663707), (0.36823397048382289, 0.36823397048382289), (0.95340715655058872, 0.95340715655058872), (0.64215965617907744, 0.64215965617907744), (0.63647815520788842, 0.63647815520788842), (0.74559848212506064, 0.74559848212506064), (0.77591941833251399, 0.77591941833251399), (0.45477121632952588, 0.45477121632952588), (0.92383672812946926, 0.92383672812946926), (0.07688923315830809, 0.07688923315830809), (0.94602477796123863, 0.94602477796123863), (0.30516255284775429, 0.30516255284775429), (0.076447960175815344, 0.076447960175815344), (0.39311367950904696, 0.39311367950904696), (0.77468197705443453, 0.77468197705443453), (0.1399397755828925, 0.1399397755828925), (0.25363400639210931, 0.25363400639210931), (0.76937137316944282, 0.76937137316944282), (0.2695511357526984, 0.2695511357526984), (0.53679509453171648, 0.53679509453171648), (0.23751782207572225, 0.23751782207572225), (0.19135776756767431, 0.19135776756767431), (0.81082420258593113, 0.81082420258593113), (0.45422510795043292, 0.45422510795043292), (0.31657747377562362, 0.31657747377562362), (0.24103505434682848, 0.24103505434682848), (0.8815655574965896, 0.8815655574965896), (0.46749196578472252, 0.46749196578472252), (0.66891989947588548, 0.66891989947588548), (0.3996213976052756, 0.3996213976052756), (0.72682252811085002, 0.72682252811085002), (0.62563699587792643, 0.62563699587792643), (0.58691019904389663, 0.58691019904389663), (0.11851392450640141, 0.11851392450640141), (0.23706278460458796, 0.23706278460458796), (0.19323102793957503, 0.19323102793957503), (0.2692925325278992, 0.2692925325278992), (0.28652212327043092, 0.28652212327043092), (0.52903582471379451, 0.52903582471379451), (0.47838017604243088, 0.47838017604243088)], [(0.46773427946706603, 0.46773427946706603), (0.82392718103746043, 0.82392718103746043), (0.75765103572817649, 0.75765103572817649), (0.47929556010067431, 0.47929556010067431), (0.57691665413613991, 0.57691665413613991), (0.61613342651932845, 0.61613342651932845), (0.92116187062590948, 0.92116187062590948), (0.030084062908565468, 0.030084062908565468), (0.99628106931580362, 0.99628106931580362), (0.13762149478402896, 0.13762149478402896), (0.98122505959688666, 0.98122505959688666), (0.3933877285591505, 0.3933877285591505), (0.90132236131729182, 0.90132236131729182), (0.12463640401667708, 0.12463640401667708), (0.73996577253611351, 0.73996577253611351), (0.84280016049972695, 0.84280016049972695), (0.6294745058644301, 0.6294745058644301), (0.52876866174413362, 0.52876866174413362), (0.76582066661395609, 0.76582066661395609), (0.47357538049580894, 0.47357538049580894), (0.37142744550651186, 0.37142744550651186), (0.057764175392989947, 0.057764175392989947), (0.38830190097432205, 0.38830190097432205), (0.92999553181091454, 0.92999553181091454), (0.15567243521945895, 0.15567243521945895), (0.2839147669828499, 0.2839147669828499), (0.19044736316771871, 0.19044736316771871), (0.91740182488541955, 0.91740182488541955), (0.25298351499439331, 0.25298351499439331), (0.08960476955476171, 0.08960476955476171), (0.85836362400838528, 0.85836362400838528), (0.51120807222725095, 0.51120807222725095), (0.38387044881888965, 0.38387044881888965), (0.94162287120432853, 0.94162287120432853), (0.23850857029325456, 0.23850857029325456), (0.33900390445021011, 0.33900390445021011), (0.90558739369656782, 0.90558739369656782), (0.75451349401697887, 0.75451349401697887), (0.10891425611509253, 0.10891425611509253), (0.82475370831824091, 0.82475370831824091), (0.47221641820635107, 0.47221641820635107), (0.696060513522608, 0.696060513522608), (0.91272076013609316, 0.91272076013609316), (0.84460984512761883, 0.84460984512761883), (0.61239709941120835, 0.61239709941120835), (0.23873670414648118, 0.23873670414648118), (0.024961035800091125, 0.024961035800091125), (0.91990714606247825, 0.91990714606247825), (0.22237504453947787, 0.22237504453947787), (0.73669724446166229, 0.73669724446166229), (0.45577813644273202, 0.45577813644273202), (0.74554677953175597, 0.74554677953175597), (0.46214875782882192, 0.46214875782882192), (0.24449825588327134, 0.24449825588327134), (0.58920547746717855, 0.58920547746717855), (0.26316645077488154, 0.26316645077488154), (0.71536068504763095, 0.71536068504763095), (0.52474126592768711, 0.52474126592768711), (0.96573456911639832, 0.96573456911639832), (0.95760426160548739, 0.95760426160548739), (0.71662335146121758, 0.71662335146121758), (0.71520174778275536, 0.71520174778275536), (0.6124029012362926, 0.6124029012362926), (0.2966166840105503, 0.2966166840105503), (0.42987704585547115, 0.42987704585547115), (0.23062104157493968, 0.23062104157493968), (0.56649716380283921, 0.56649716380283921), (0.39880402827151407, 0.39880402827151407), (0.19897025527104217, 0.19897025527104217), (0.63118675092693599, 0.63118675092693599), (0.79813089970986784, 0.79813089970986784), (0.19434655279726587, 0.19434655279726587), (0.45193815044396457, 0.45193815044396457), (0.72877500310312548, 0.72877500310312548), (0.71116678504950881, 0.71116678504950881), (0.54701804229465723, 0.54701804229465723), (0.71664603435649099, 0.71664603435649099), (0.28604489447268833, 0.28604489447268833), (0.87770349608918474, 0.87770349608918474), (0.12708473339607051, 0.12708473339607051), (0.57329205938167216, 0.57329205938167216), (0.7299214077859898, 0.7299214077859898), (0.8187016346573065, 0.8187016346573065), (0.099174040941746644, 0.099174040941746644), (0.2435743822746439, 0.2435743822746439), (0.63683570215510099, 0.63683570215510099), (0.94247256147852398, 0.94247256147852398), (0.76407383825980912, 0.76407383825980912), (0.51552009362255491, 0.51552009362255491), (0.81584309746764561, 0.81584309746764561), (0.46940914615901719, 0.46940914615901719), (0.98406923544192548, 0.98406923544192548), (0.41184228366316666, 0.41184228366316666), (0.4286621042512776, 0.4286621042512776), (0.71398629307164807, 0.71398629307164807), (0.91545229375858561, 0.91545229375858561), (0.14169793106657602, 0.14169793106657602), (0.21557539937620884, 0.21557539937620884), (0.84145315198585169, 0.84145315198585169), (0.87231934424126267, 0.87231934424126267)], [(0.35694576468886152, 0.35694576468886152), (0.98562499643365398, 0.98562499643365398), (0.32102509641179966, 0.32102509641179966), (0.74393642624021539, 0.74393642624021539), (0.64586880654761381, 0.64586880654761381), (0.76143290424088494, 0.76143290424088494), (0.94831008293107233, 0.94831008293107233), (0.01538420389073214, 0.01538420389073214), (0.71817439452700582, 0.71817439452700582), (0.27376705763724285, 0.27376705763724285), (0.58067360589139794, 0.58067360589139794), (0.60079864202569477, 0.60079864202569477), (0.84536944876729414, 0.84536944876729414), (0.84747696520992066, 0.84747696520992066), (0.89388585470691151, 0.89388585470691151), (0.39070572729736142, 0.39070572729736142), (0.15152349417473543, 0.15152349417473543), (0.7266112378165448, 0.7266112378165448), (0.36561497708463553, 0.36561497708463553), (0.31179403090340974, 0.31179403090340974), (0.83751836973975224, 0.83751836973975224), (0.019309495539398203, 0.019309495539398203), (0.64679757854984066, 0.64679757854984066), (0.89338813781491433, 0.89338813781491433), (0.50565232839461072, 0.50565232839461072), (0.96473885007976989, 0.96473885007976989), (0.069547011542697157, 0.069547011542697157), (0.040257731556508469, 0.040257731556508469), (0.86491762703932096, 0.86491762703932096), (0.31902235192999728, 0.31902235192999728), (0.37903498133858249, 0.37903498133858249), (0.76929415617497909, 0.76929415617497909), (0.67179192947397404, 0.67179192947397404), (0.74330100445515523, 0.74330100445515523), (0.63565722206274444, 0.63565722206274444), (0.82199500914022283, 0.82199500914022283), (0.20451666952843028, 0.20451666952843028), (0.30658772251401956, 0.30658772251401956), (0.59781099066445442, 0.59781099066445442), (0.16121333841599206, 0.16121333841599206), (0.41450198033228558, 0.41450198033228558), (0.024495322568259592, 0.024495322568259592), (0.41140694673742395, 0.41140694673742395), (0.80002103732882246, 0.80002103732882246), (0.7923292624118693, 0.7923292624118693), (0.30578910190684483, 0.30578910190684483), (0.61927604644592404, 0.61927604644592404), (0.45858891696659565, 0.45858891696659565), (0.34135377543371059, 0.34135377543371059), (0.40325473967920089, 0.40325473967920089), (0.93861888714439334, 0.93861888714439334), (0.64790040313982722, 0.64790040313982722), (0.71157143250079635, 0.71157143250079635), (0.026553467638972816, 0.026553467638972816), (0.25298078142197855, 0.25298078142197855), (0.49057616836396978, 0.49057616836396978), (0.82437220344724271, 0.82437220344724271), (0.33055636713511072, 0.33055636713511072), (0.72734460411888102, 0.72734460411888102), (0.68343823986640839, 0.68343823986640839), (0.39096597827802593, 0.39096597827802593), (0.82768744256859028, 0.82768744256859028), (0.64134861189054682, 0.64134861189054682), (0.1020372996584068, 0.1020372996584068), (0.25254963919887452, 0.25254963919887452), (0.98541726136013619, 0.98541726136013619), (0.66298010962355491, 0.66298010962355491), (0.108098485437499, 0.108098485437499), (0.75287693789538079, 0.75287693789538079), (0.74581770206407128, 0.74581770206407128), (0.18857713939059617, 0.18857713939059617), (0.5282410066140647, 0.5282410066140647), (0.93442508137408953, 0.93442508137408953), (0.72808341274080268, 0.72808341274080268), (0.021352556118556576, 0.021352556118556576), (0.80211965389771234, 0.80211965389771234), (0.052741682581439409, 0.052741682581439409), (0.63774458191855266, 0.63774458191855266), (0.39671935410126513, 0.39671935410126513), (0.24522073042856973, 0.24522073042856973), (0.96705216725967702, 0.96705216725967702), (0.81371927854466519, 0.81371927854466519), (0.52353064582850217, 0.52353064582850217), (0.038149460877252572, 0.038149460877252572), (0.39702747845417108, 0.39702747845417108), (0.7901358854217515, 0.7901358854217515), (0.37306822035166509, 0.37306822035166509), (0.15512378185352016, 0.15512378185352016), (0.091259661384760937, 0.091259661384760937), (0.43847766167202196, 0.43847766167202196), (0.066819243419042662, 0.066819243419042662), (0.11428449951735853, 0.11428449951735853), (0.31225650587126919, 0.31225650587126919), (0.21409434346615008, 0.21409434346615008), (0.8282854801640358, 0.8282854801640358), (0.5309652285307308, 0.5309652285307308), (0.69291011704954586, 0.69291011704954586), (0.076860437147191263, 0.076860437147191263), (0.50707245887450203, 0.50707245887450203), (0.24825346239571622, 0.24825346239571622)], [(0.037056691352568616, 0.037056691352568616), (0.93341080118778774, 0.93341080118778774), (0.020124972998288415, 0.020124972998288415), (0.085162645643304558, 0.085162645643304558), (0.9629211899554917, 0.9629211899554917), (0.35117513533890798, 0.35117513533890798), (0.68934349396791617, 0.68934349396791617), (0.966849796059427, 0.966849796059427), (0.9050675277488277, 0.9050675277488277), (0.07385150185521161, 0.07385150185521161), (0.36107967669425112, 0.36107967669425112), (0.18843846935214836, 0.18843846935214836), (0.68755059090965942, 0.68755059090965942), (0.62139066860017911, 0.62139066860017911), (0.18041970302939225, 0.18041970302939225), (0.9617753329623957, 0.9617753329623957), (0.19193291197381324, 0.19193291197381324), (0.92672599079866869, 0.92672599079866869), (0.11202250919833645, 0.11202250919833645), (0.1851079999409696, 0.1851079999409696), (0.48254719031991822, 0.48254719031991822), (0.90562994559340704, 0.90562994559340704), (0.20734523703015217, 0.20734523703015217), (0.22977399480329908, 0.22977399480329908), (0.98976274187571545, 0.98976274187571545), (0.64735651506133329, 0.64735651506133329), (0.50420299311403693, 0.50420299311403693), (0.88506032825116232, 0.88506032825116232), (0.9493543294393102, 0.9493543294393102), (0.27361481467597548, 0.27361481467597548), (0.54978106965086093, 0.54978106965086093), (0.82391233463738223, 0.82391233463738223), (0.7770362738490052, 0.7770362738490052), (0.013832421508963466, 0.013832421508963466), (0.82505163958425376, 0.82505163958425376), (0.27710803316430355, 0.27710803316430355), (0.21860257070881339, 0.21860257070881339), (0.11520896073453712, 0.11520896073453712), (0.68678119614982769, 0.68678119614982769), (0.8466338000375776, 0.8466338000375776), (0.90509143043620699, 0.90509143043620699), (0.35408608255865359, 0.35408608255865359), (0.21938653511890738, 0.21938653511890738), (0.95938577450436036, 0.95938577450436036), (0.79053324624580168, 0.79053324624580168), (0.14206047899592844, 0.14206047899592844), (0.52969503502068427, 0.52969503502068427), (0.01934088428369285, 0.01934088428369285), (0.085183169750176924, 0.085183169750176924), (0.71150691389759313, 0.71150691389759313), (0.75817503475365633, 0.75817503475365633), (0.58006345441769713, 0.58006345441769713), (0.37849932305401435, 0.37849932305401435), (0.12651697494085912, 0.12651697494085912), (0.16333018309564407, 0.16333018309564407), (0.31267180695372454, 0.31267180695372454), (0.99443292288348373, 0.99443292288348373), (0.20578764731574539, 0.20578764731574539), (0.62477686011033351, 0.62477686011033351), (0.37918888267848483, 0.37918888267848483), (0.76744970199444085, 0.76744970199444085), (0.25751318811224322, 0.25751318811224322), (0.93595335780640665, 0.93595335780640665), (0.81217439233709732, 0.81217439233709732), (0.42039052949539069, 0.42039052949539069), (0.99490607069614057, 0.99490607069614057), (0.33073492591834142, 0.33073492591834142), (0.40740587525890259, 0.40740587525890259), (0.93536019971692308, 0.93536019971692308), (0.53116440729561942, 0.53116440729561942), (0.34081317238482545, 0.34081317238482545), (0.84947270363868232, 0.84947270363868232), (0.31858167807253335, 0.31858167807253335), (0.41846159040662012, 0.41846159040662012), (0.6651357324948457, 0.6651357324948457), (0.71163448786339256, 0.71163448786339256), (0.020531449104698729, 0.020531449104698729), (0.52424978185699633, 0.52424978185699633), (0.058626385642151835, 0.058626385642151835), (0.19228217365958356, 0.19228217365958356), (0.93814259688584289, 0.93814259688584289), (0.46479060996897026, 0.46479060996897026), (0.57709459692730558, 0.57709459692730558), (0.028995453423718009, 0.028995453423718009), (0.17210779854011693, 0.17210779854011693), (0.63862239753390859, 0.63862239753390859), (0.46023304482691807, 0.46023304482691807), (0.20225911714570211, 0.20225911714570211), (0.36483818568326676, 0.36483818568326676), (0.74722849677754088, 0.74722849677754088), (0.62349328552786454, 0.62349328552786454), (0.050140477105587999, 0.050140477105587999), (0.1888996477396705, 0.1888996477396705), (0.019618704522923025, 0.019618704522923025), (0.87711642904101039, 0.87711642904101039), (0.20422766897510747, 0.20422766897510747), (0.95733463581725431, 0.95733463581725431), (0.64500241733414476, 0.64500241733414476), (0.51283993761834634, 0.51283993761834634), (0.1256566811299803, 0.1256566811299803)], [(0.52354277966408436, 0.52354277966408436), (0.90769889777054791, 0.90769889777054791), (0.019785079951751938, 0.019785079951751938), (0.82086603858865304, 0.82086603858865304), (0.076819750665681252, 0.076819750665681252), (0.0070218887142246, 0.0070218887142246), (0.42812636940583515, 0.42812636940583515), (0.42495930972765761, 0.42495930972765761), (0.7475536815435464, 0.7475536815435464), (0.72776393039586118, 0.72776393039586118), (0.10890519692597722, 0.10890519692597722), (0.17712738564704023, 0.17712738564704023), (0.21649505975060712, 0.21649505975060712), (0.75969485940328052, 0.75969485940328052), (0.90080836673611264, 0.90080836673611264), (0.20788415625315648, 0.20788415625315648), (0.77636326233512265, 0.77636326233512265), (0.049438863243031927, 0.049438863243031927), (0.41110167283771482, 0.41110167283771482), (0.047345105565843038, 0.047345105565843038), (0.99666206341093289, 0.99666206341093289), (0.77993744103393592, 0.77993744103393592), (0.8158168913674998, 0.8158168913674998), (0.13909827857242629, 0.13909827857242629), (0.17121188458390924, 0.17121188458390924), (0.15729039940933331, 0.15729039940933331), (0.77874758696907154, 0.77874758696907154), (0.21535643419612926, 0.21535643419612926), (0.83258344571264942, 0.83258344571264942), (0.23133140062353263, 0.23133140062353263), (0.87279403691003021, 0.87279403691003021), (0.57427977837870026, 0.57427977837870026), (0.49795517679335455, 0.49795517679335455), (0.091941535873249713, 0.091941535873249713), (0.63739847499784386, 0.63739847499784386), (0.51420936551129393, 0.51420936551129393), (0.58659598962290849, 0.58659598962290849), (0.13929587553692024, 0.13929587553692024), (0.63511081138854364, 0.63511081138854364), (0.25330899219319658, 0.25330899219319658), (0.32763406030174247, 0.32763406030174247), (0.56190490149246319, 0.56190490149246319), (0.042413239867190144, 0.042413239867190144), (0.87402477694270397, 0.87402477694270397), (0.55214596861923171, 0.55214596861923171), (0.97942834292569503, 0.97942834292569503), (0.20383270714320245, 0.20383270714320245), (0.67155067566133775, 0.67155067566133775), (0.23657276699351404, 0.23657276699351404), (0.25147998224774659, 0.25147998224774659), (0.86577205172561433, 0.86577205172561433), (0.61492557506611467, 0.61492557506611467), (0.6607809060946026, 0.6607809060946026), (0.92243937039080792, 0.92243937039080792), (0.16866556494892282, 0.16866556494892282), (0.93240468028043355, 0.93240468028043355), (0.92443561945848196, 0.92443561945848196), (0.34301740049465868, 0.34301740049465868), (0.090375606303556899, 0.090375606303556899), (0.1367752976372193, 0.1367752976372193), (0.030811105660080607, 0.030811105660080607), (0.37273299390496728, 0.37273299390496728), (0.68981744826763602, 0.68981744826763602), (0.58195088759878699, 0.58195088759878699), (0.79354422078391773, 0.79354422078391773), (0.22403523873213371, 0.22403523873213371), (0.85794027992992672, 0.85794027992992672), (0.67518821146010211, 0.67518821146010211), (0.85191098178326996, 0.85191098178326996), (0.10038689348370855, 0.10038689348370855), (0.26238479911962864, 0.26238479911962864), (0.80923207064614355, 0.80923207064614355), (0.70993896523401767, 0.70993896523401767), (0.87473945752296178, 0.87473945752296178), (0.47253629498015826, 0.47253629498015826), (0.20625056489119742, 0.20625056489119742), (0.96902052729147836, 0.96902052729147836), (0.96762301087119396, 0.96762301087119396), (0.80108068198901317, 0.80108068198901317), (0.87883433242498643, 0.87883433242498643), (0.38278176874981584, 0.38278176874981584), (0.14950669902209646, 0.14950669902209646), (0.76038976350479437, 0.76038976350479437), (0.62756777534322472, 0.62756777534322472), (0.24780851828131145, 0.24780851828131145), (0.11253199966785155, 0.11253199966785155), (0.95345120194601507, 0.95345120194601507), (0.77088792988938026, 0.77088792988938026), (0.1305810943970922, 0.1305810943970922), (0.86567640981588012, 0.86567640981588012), (0.16108623979407355, 0.16108623979407355), (0.4402364532550781, 0.4402364532550781), (0.61112329781372066, 0.61112329781372066), (0.21594546158823735, 0.21594546158823735), (0.64759710957492211, 0.64759710957492211), (0.58252280807228851, 0.58252280807228851), (0.082179028180809799, 0.082179028180809799), (0.41798648543759831, 0.41798648543759831), (0.55133227615096403, 0.55133227615096403), (0.66161506026059402, 0.66161506026059402)], [(0.53441405121161512, 0.53441405121161512), (0.43678665164171837, 0.43678665164171837), (0.20221760029172897, 0.20221760029172897), (0.58019783743710196, 0.58019783743710196), (0.52970168611728141, 0.52970168611728141), (0.75507593972636455, 0.75507593972636455), (0.52005173745215683, 0.52005173745215683), (0.46380121674415242, 0.46380121674415242), (0.037815852602222311, 0.037815852602222311), (0.69569736504077317, 0.69569736504077317), (0.34916695005434206, 0.34916695005434206), (0.71491190933547322, 0.71491190933547322), (0.91725415041296643, 0.91725415041296643), (0.23200966137857382, 0.23200966137857382), (0.36191247506849822, 0.36191247506849822), (0.1803083409770122, 0.1803083409770122), (0.60326111223414525, 0.60326111223414525), (0.5961434572951646, 0.5961434572951646), (0.61181882581342251, 0.61181882581342251), (0.84559565707253015, 0.84559565707253015), (0.43324620362817234, 0.43324620362817234), (0.96162920407909791, 0.96162920407909791), (0.089220703183706562, 0.089220703183706562), (0.61869293564617434, 0.61869293564617434), (0.43176870024455072, 0.43176870024455072), (0.5173312831950212, 0.5173312831950212), (0.9468375087201798, 0.9468375087201798), (0.089957496683724991, 0.089957496683724991), (0.34576202226538, 0.34576202226538), (0.071722347661780761, 0.071722347661780761), (0.53232735908056383, 0.53232735908056383), (0.6983539610419327, 0.6983539610419327), (0.32214705698599488, 0.32214705698599488), (0.87296213865089778, 0.87296213865089778), (0.94685445239969446, 0.94685445239969446), (0.030310692927672189, 0.030310692927672189), (0.22053516670846307, 0.22053516670846307), (0.97617759158503725, 0.97617759158503725), (0.092700221180260445, 0.092700221180260445), (0.82035022097266408, 0.82035022097266408), (0.090892509099391949, 0.090892509099391949), (0.42363439277319859, 0.42363439277319859), (0.26711494085678511, 0.26711494085678511), (0.6846137641634783, 0.6846137641634783), (0.30385419397540736, 0.30385419397540736), (0.54518300836035549, 0.54518300836035549), (0.69487642011462747, 0.69487642011462747), (0.94346709692781305, 0.94346709692781305), (0.45734660928681514, 0.45734660928681514), (0.29818685666043521, 0.29818685666043521), (0.59984076325280833, 0.59984076325280833), (0.6213107297083259, 0.6213107297083259), (0.87084058972297318, 0.87084058972297318), (0.053282078349470186, 0.053282078349470186), (0.43692306305809858, 0.43692306305809858), (0.46482523530018538, 0.46482523530018538), (0.25625790422659112, 0.25625790422659112), (0.26920657543778681, 0.26920657543778681), (0.52765800488302772, 0.52765800488302772), (0.93856052186591532, 0.93856052186591532), (0.46335825822549548, 0.46335825822549548), (0.60608948983429112, 0.60608948983429112), (0.98671740969807731, 0.98671740969807731), (0.48864677886242658, 0.48864677886242658), (0.81813398455982356, 0.81813398455982356), (0.52681096693616303, 0.52681096693616303), (0.73366255935733582, 0.73366255935733582), (0.82181390374003793, 0.82181390374003793), (0.63553004338011976, 0.63553004338011976), (0.94804307482230776, 0.94804307482230776), (0.48927840855543925, 0.48927840855543925), (0.38898612561350798, 0.38898612561350798), (0.13065362359664501, 0.13065362359664501), (0.46751184661560119, 0.46751184661560119), (0.75891328786366696, 0.75891328786366696), (0.72224356664523404, 0.72224356664523404), (0.7313269283361099, 0.7313269283361099), (0.57914523631314652, 0.57914523631314652), (0.71273012865459129, 0.71273012865459129), (0.095559987590384643, 0.095559987590384643), (0.77130567963482299, 0.77130567963482299), (0.32375587892146496, 0.32375587892146496), (0.11045186545905794, 0.11045186545905794), (0.25345906835110388, 0.25345906835110388), (0.44228159280193979, 0.44228159280193979), (0.43778125130046897, 0.43778125130046897), (0.36022347827717272, 0.36022347827717272), (0.026822580812598251, 0.026822580812598251), (0.69429349700525356, 0.69429349700525356), (0.50739473325253415, 0.50739473325253415), (0.28796657179551222, 0.28796657179551222), (0.87810059885215153, 0.87810059885215153), (0.15545040395768539, 0.15545040395768539), (0.90591809298011983, 0.90591809298011983), (0.38077561162216456, 0.38077561162216456), (0.42688526862571041, 0.42688526862571041), (0.82550563412946498, 0.82550563412946498), (0.35650974479457342, 0.35650974479457342), (0.17126547808991976, 0.17126547808991976), (0.28562494840719233, 0.28562494840719233)]]\n"
     ]
    }
   ],
   "source": [
    "# EXERCICIO\n",
    "# Procure dentre os comandos do PySpark, um que consiga fazer o produto cartesiano da base com ela mesma\n",
    "cartPointsRDD = numPointsRDD.map(lambda (x,y) : zip(y,y))\n",
    "#print cartPointsRDD.collect()\n",
    "# Aplique um mapa para transformar nossa RDD em uma RDD de tuplas ((id1,id2), (vetor1,vetor2))\n",
    "# DICA: primeiro utilize o comando take(1) e imprima o resultado para verificar o formato atual da RDD\n",
    "cartPointsParesRDD = cartPointsRDD.<COMPLETAR>\n",
    "\n",
    "\n",
    "# Aplique um mapa para calcular a Distância Euclidiana entre os pares\n",
    "##Euclid = pNorm(2)\n",
    "##distRDD = cartPointsParesRDD.<COMPLETAR>\n",
    "\n",
    "# Encontre a distância máxima, mínima e média, aplicando um mapa que transforma (chave,valor) --> valor\n",
    "# e utilizando os comandos internos do pyspark para o cálculo da min, max, mean\n",
    "##statRDD = distRDD.<COMPLETAR>\n",
    "\n",
    "##minv, maxv, meanv = statRDD.<COMPLETAR>, statRDD.<COMPLETAR>, statRDD.<COMPLETAR>\n",
    "##print minv, maxv, meanv"
   ]
  },
  {
   "cell_type": "code",
   "execution_count": null,
   "metadata": {},
   "outputs": [],
   "source": [
    "assert (minv.round(2), maxv.round(2), meanv.round(2))==(0.0, 4.70, 3.65), 'Valores incorretos'\n",
    "print \"OK\""
   ]
  },
  {
   "cell_type": "markdown",
   "metadata": {},
   "source": [
    "#### ** (5b) Valores Categóricos **\n",
    "\n",
    "#### Quando nossos objetos são representados por atributos categóricos, eles não possuem uma similaridade espacial. Para calcularmos a similaridade entre eles podemos primeiro transformar nosso vetor de atrbutos em um vetor binário indicando, para cada possível valor de cada atributo, se ele possui esse atributo ou não.\n",
    "\n",
    "#### Com o vetor binário podemos utilizar a distância de Hamming  definida por:\n",
    "\n",
    "#### $$ H(x,y) = \\sum_{i=1}^{n}{x_i != y_i} $$\n",
    "\n",
    "#### Também é possível definir a distância de Jaccard como:\n",
    "\n",
    "#### $$ J(x,y) = \\frac{\\sum_{i=1}^{n}{x_i == y_i} }{\\sum_{i=1}^{n}{\\max(x_i, y_i}) } $$"
   ]
  },
  {
   "cell_type": "code",
   "execution_count": null,
   "metadata": {
    "collapsed": true
   },
   "outputs": [],
   "source": [
    "# Vamos criar uma função para calcular a distância de Hamming\n",
    "def Hamming(x,y):\n",
    "    \"\"\"Calculates the Hamming distance between two binary vectors.\n",
    "\n",
    "    Args:\n",
    "        x, y (np.array): Array of binary integers x and y.\n",
    "\n",
    "    Returns:\n",
    "        H (int): The Hamming distance between x and y.\n",
    "    \"\"\"\n",
    "    return (x!=y).sum()\n",
    "\n",
    "# Vamos criar uma função para calcular a distância de Jaccard\n",
    "def Jaccard(x,y):\n",
    "    \"\"\"Calculates the Jaccard distance between two binary vectors.\n",
    "\n",
    "    Args:\n",
    "        x, y (np.array): Array of binary integers x and y.\n",
    "\n",
    "    Returns:\n",
    "        J (int): The Jaccard distance between x and y.\n",
    "    \"\"\"\n",
    "    return (x==y).sum()/float( np.maximum(x,y).sum() )"
   ]
  },
  {
   "cell_type": "code",
   "execution_count": null,
   "metadata": {},
   "outputs": [],
   "source": [
    "# Vamos criar uma RDD com valores categóricos\n",
    "catPointsRDD = sc.parallelize(enumerate([['alto', 'caro', 'azul'],\n",
    "                             ['medio', 'caro', 'verde'],\n",
    "                             ['alto', 'barato', 'azul'],\n",
    "                             ['medio', 'caro', 'vermelho'],\n",
    "                             ['baixo', 'barato', 'verde'],\n",
    "                            ]))"
   ]
  },
  {
   "cell_type": "code",
   "execution_count": null,
   "metadata": {},
   "outputs": [],
   "source": [
    "# EXERCICIO\n",
    "# Crie um RDD de chaves únicas utilizando flatMap\n",
    "chavesRDD = (catPointsRDD\n",
    "             .<COMPLETAR>\n",
    "             .<COMPLETAR>\n",
    "             .<COMPLETAR>\n",
    "             )\n",
    "\n",
    "chaves = dict((v,k) for k,v in enumerate(chavesRDD.collect()))\n",
    "nchaves = len(chaves)\n",
    "print chaves, nchaves"
   ]
  },
  {
   "cell_type": "code",
   "execution_count": null,
   "metadata": {},
   "outputs": [],
   "source": [
    "assert chaves=={'alto': 0, 'medio': 1, 'baixo': 2, 'barato': 3, 'azul': 4, 'verde': 5, 'caro': 6, 'vermelho': 7}, 'valores incorretos!'\n",
    "print \"OK\"\n",
    "\n",
    "assert nchaves==8, 'número de chaves incorreta'\n",
    "print \"OK\""
   ]
  },
  {
   "cell_type": "code",
   "execution_count": null,
   "metadata": {},
   "outputs": [],
   "source": [
    "def CreateNP(atributos,chaves):  \n",
    "    \"\"\"Binarize the categorical vector using a dictionary of keys.\n",
    "\n",
    "    Args:\n",
    "        atributos (list): List of attributes of a given object.\n",
    "        chaves (dict): dictionary with the relation attribute -> index\n",
    "\n",
    "    Returns:\n",
    "        array (np.array): Binary array of attributes.\n",
    "    \"\"\"\n",
    "    \n",
    "    array = np.zeros(len(chaves))\n",
    "    for atr in atributos:\n",
    "        array[ chaves[atr] ] = 1\n",
    "    return array\n",
    "\n",
    "# Converte o RDD para o formato binário, utilizando o dict chaves\n",
    "binRDD = catPointsRDD.map(lambda rec: (rec[0],CreateNP(rec[1], chaves)))\n",
    "binRDD.collect()"
   ]
  },
  {
   "cell_type": "code",
   "execution_count": null,
   "metadata": {},
   "outputs": [],
   "source": [
    "# EXERCICIO\n",
    "# Procure dentre os comandos do PySpark, um que consiga fazer o produto cartesiano da base com ela mesma\n",
    "cartBinRDD = binRDD.<COMPLETAR>\n",
    "\n",
    "# Aplique um mapa para transformar nossa RDD em uma RDD de tuplas ((id1,id2), (vetor1,vetor2))\n",
    "# DICA: primeiro utilize o comando take(1) e imprima o resultado para verificar o formato atual da RDD\n",
    "cartBinParesRDD = cartBinRDD.<COMPLETAR>\n",
    "\n",
    "\n",
    "# Aplique um mapa para calcular a Distância de Hamming e Jaccard entre os pares\n",
    "hamRDD = cartBinParesRDD.<COMPLETAR>\n",
    "jacRDD = cartBinParesRDD.<COMPLETAR>\n",
    "\n",
    "# Encontre a distância máxima, mínima e média, aplicando um mapa que transforma (chave,valor) --> valor\n",
    "# e utilizando os comandos internos do pyspark para o cálculo da min, max, mean\n",
    "statHRDD = hamRDD.<COMPLETAR>\n",
    "statJRDD = jacRDD.<COMPLETAR>\n",
    "\n",
    "Hmin, Hmax, Hmean = statHRDD.<COMPLETAR>, statHRDD.<COMPLETAR>, statHRDD.<COMPLETAR>\n",
    "Jmin, Jmax, Jmean = statJRDD.<COMPLETAR>, statJRDD.<COMPLETAR>, statJRDD.<COMPLETAR>\n",
    "\n",
    "print \"\\t\\tMin\\tMax\\tMean\"\n",
    "print \"Hamming:\\t{:.2f}\\t{:.2f}\\t{:.2f}\".format(Hmin, Hmax, Hmean )\n",
    "print \"Jaccard:\\t{:.2f}\\t{:.2f}\\t{:.2f}\".format( Jmin, Jmax, Jmean )"
   ]
  },
  {
   "cell_type": "code",
   "execution_count": null,
   "metadata": {},
   "outputs": [],
   "source": [
    "assert (Hmin.round(2), Hmax.round(2), Hmean.round(2)) == (0.00,6.00,3.52), 'valores incorretos'\n",
    "print \"OK\"\n",
    "assert (Jmin.round(2), Jmax.round(2), Jmean.round(2)) == (0.33,2.67,1.14), 'valores incorretos'\n",
    "print \"OK\""
   ]
  }
 ],
 "metadata": {
  "kernelspec": {
   "display_name": "Python 2",
   "language": "python",
   "name": "python2"
  },
  "language_info": {
   "codemirror_mode": {
    "name": "ipython",
    "version": 2
   },
   "file_extension": ".py",
   "mimetype": "text/x-python",
   "name": "python",
   "nbconvert_exporter": "python",
   "pygments_lexer": "ipython2",
   "version": "2.7.12"
  }
 },
 "nbformat": 4,
 "nbformat_minor": 1
}
